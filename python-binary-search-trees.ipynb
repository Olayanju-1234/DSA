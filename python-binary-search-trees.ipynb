{
 "cells": [
  {
   "cell_type": "markdown",
   "id": "precise-filename",
   "metadata": {
    "id": "precise-filename"
   },
   "source": [
    "# Binary Search Trees, Traversals and Balancing in Python\n",
    "\n",
    "### Part 2 of \"Data Structures and Algorithms in Python\"\n",
    "\n",
    "![](https://i.imgur.com/lVqP63n.png)\n",
    "\n",
    "\n",
    "\n",
    "\n",
    "\n",
    "[Data Structures and Algorithms in Python](https://jovian.ai/learn/data-structures-and-algorithms-in-python) is a beginner-friendly introduction to common data structures (linked lists, stacks, queues, graphs) and algorithms (search, sorting, recursion, dynamic programming) in Python, designed to help you prepare for coding interviews and assessments.\n",
    "\n",
    "\n",
    "Earn a verified certificate of accomplishment for this course by signing up here: http://pythondsa.com.\n",
    "\n",
    "Ask questions, get help & participate in discussions on the community forum: https://jovian.ai/forum/c/data-structures-and-algorithms-in-python/78"
   ]
  },
  {
   "cell_type": "markdown",
   "id": "adaptive-birmingham",
   "metadata": {
    "id": "adaptive-birmingham"
   },
   "source": [
    "### Prerequisites\n",
    "\n",
    "This course assumes very little background in programming and mathematics, and you can learn the required concepts here:\n",
    "\n",
    "- Basic programming with Python ([variables](https://jovian.ai/aakashns/first-steps-with-python), [data types](https://jovian.ai/aakashns/python-variables-and-data-types), [loops](https://jovian.ai/aakashns/python-branching-and-loops), [functions](https://jovian.ai/aakashns/python-functions-and-scope) etc.)\n",
    "- Some high school mathematics ([polynomials](https://www.youtube.com/watch?v=Vm7H0VTlIco), [vectors, matrices](https://www.youtube.com/watch?v=0oGJTQCy4cQ&list=PLSQl0a2vh4HCs4zPpOEdF2GuydqS90Yb6) and [probability](https://www.youtube.com/watch?v=uzkc-qNVoOk))\n",
    "- No prior knowledge of data structures or algorithms is required\n",
    "\n",
    "We'll cover any additional mathematical and theoretical concepts we need as we go along.\n",
    "\n"
   ]
  },
  {
   "cell_type": "markdown",
   "id": "polished-current",
   "metadata": {
    "id": "polished-current"
   },
   "source": [
    "## How to Run the Code\n",
    "\n",
    "The best way to learn the material is to execute the code and experiment with it yourself. This tutorial is an executable [Jupyter notebook](https://jupyter.org). You can _run_ this tutorial and experiment with the code examples in a couple of ways: *using free online resources* (recommended) or *on your computer*.\n",
    "\n",
    "#### Option 1: Running using free online resources (1-click, recommended)\n",
    "\n",
    "The easiest way to start executing the code is to click the **Run** button at the top of this page and select **Run on Binder**. You can also select \"Run on Colab\" or \"Run on Kaggle\", but you'll need to create an account on [Google Colab](https://colab.research.google.com) or [Kaggle](https://kaggle.com) to use these platforms.\n",
    "\n",
    "\n",
    "#### Option 2: Running on your computer locally\n",
    "\n",
    "To run the code on your computer locally, you'll need to set up [Python](https://www.python.org), download the notebook and install the required libraries. We recommend using the [Conda](https://docs.conda.io/projects/conda/en/latest/user-guide/install/) distribution of Python. Click the **Run** button at the top of this page, select the **Run Locally** option, and follow the instructions.\n"
   ]
  },
  {
   "cell_type": "markdown",
   "id": "governmental-worry",
   "metadata": {
    "id": "governmental-worry"
   },
   "source": [
    "## Problem \n",
    "\n",
    "\n",
    "In this notebook, we'll focus on solving the following problem:\n",
    "\n",
    "> **QUESTION 1**: As a senior backend engineer at Jovian, you are tasked with developing a fast in-memory data structure to manage profile information (username, name and email) for 100 million users. It should allow the following operations to be performed efficiently:\n",
    "> \n",
    "> 1. **Insert** the profile information for a new user.\n",
    "> 2. **Find** the profile information of a user, given their username\n",
    "> 3. **Update** the profile information of a user, given their usrname\n",
    "> 5. **List** all the users of the platform, sorted by username\n",
    ">\n",
    "> You can assume that usernames are unique. \n",
    "\n",
    "Along the way, we will also solve several other questions related to binary trees and binary search trees that are often asked in coding interviews and assessments. "
   ]
  },
  {
   "cell_type": "markdown",
   "id": "primary-adjustment",
   "metadata": {
    "id": "primary-adjustment"
   },
   "source": [
    "## The Method\n",
    "\n",
    "\n",
    "Here's a systematic strategy we'll apply for solving problems:\n",
    "\n",
    "1. State the problem clearly. Identify the input & output formats.\n",
    "2. Come up with some example inputs & outputs. Try to cover all edge cases.\n",
    "3. Come up with a correct solution for the problem. State it in plain English.\n",
    "4. Implement the solution and test it using example inputs. Fix bugs, if any.\n",
    "5. Analyze the algorithm's complexity and identify inefficiencies, if any.\n",
    "6. Apply the right technique to overcome the inefficiency. Repeat steps 3 to 6.\n",
    "\n"
   ]
  },
  {
   "cell_type": "markdown",
   "id": "three-register",
   "metadata": {
    "id": "three-register"
   },
   "source": [
    "## 1. State the problem clearly. Identify the input & output formats.\n",
    "\n",
    "#### Problem\n",
    "\n",
    "> We need to create a data structure which can store 100 million records and perform insertion, search, update and list operations efficiently.\n",
    "\n",
    "#### Input\n",
    "\n",
    "The key inputs to our data structure are user profiles, which contain the username, name and email of a user. \n",
    "\n",
    "A Python _class_ would be a great way to represent the information for a user. A class is a blueprint for creating _objects_. Everything in Python is an _object_ belonging to some _class_. Here's the simples possible class in Python, with nothing in it:"
   ]
  },
  {
   "cell_type": "code",
   "execution_count": 1,
   "id": "exempt-financing",
   "metadata": {
    "executionInfo": {
     "elapsed": 16,
     "status": "ok",
     "timestamp": 1683304294588,
     "user": {
      "displayName": "Joseph Olayanju",
      "userId": "07239701715105728325"
     },
     "user_tz": -60
    },
    "id": "exempt-financing"
   },
   "outputs": [],
   "source": [
    "class User:\n",
    "    pass"
   ]
  },
  {
   "cell_type": "markdown",
   "id": "pointed-navigator",
   "metadata": {
    "id": "pointed-navigator"
   },
   "source": [
    "We can create or _instantiate_ an object of the class by calling it like a function."
   ]
  },
  {
   "cell_type": "code",
   "execution_count": 2,
   "id": "smooth-copyright",
   "metadata": {
    "executionInfo": {
     "elapsed": 11,
     "status": "ok",
     "timestamp": 1683304300054,
     "user": {
      "displayName": "Joseph Olayanju",
      "userId": "07239701715105728325"
     },
     "user_tz": -60
    },
    "id": "smooth-copyright"
   },
   "outputs": [],
   "source": [
    "user1 = User()"
   ]
  },
  {
   "cell_type": "markdown",
   "id": "unavailable-silly",
   "metadata": {
    "id": "unavailable-silly"
   },
   "source": [
    "We can verify that the object is of the class `User`."
   ]
  },
  {
   "cell_type": "code",
   "execution_count": 3,
   "id": "frank-launch",
   "metadata": {
    "colab": {
     "base_uri": "https://localhost:8080/"
    },
    "executionInfo": {
     "elapsed": 5,
     "status": "ok",
     "timestamp": 1683304305164,
     "user": {
      "displayName": "Joseph Olayanju",
      "userId": "07239701715105728325"
     },
     "user_tz": -60
    },
    "id": "frank-launch",
    "outputId": "d4e149dd-f8e1-4198-b976-f47d0fffe22d"
   },
   "outputs": [
    {
     "data": {
      "text/plain": [
       "<__main__.User at 0x7f27c4390ee0>"
      ]
     },
     "execution_count": 3,
     "metadata": {},
     "output_type": "execute_result"
    }
   ],
   "source": [
    "user1"
   ]
  },
  {
   "cell_type": "code",
   "execution_count": 4,
   "id": "variable-enclosure",
   "metadata": {
    "colab": {
     "base_uri": "https://localhost:8080/"
    },
    "executionInfo": {
     "elapsed": 11,
     "status": "ok",
     "timestamp": 1683304308607,
     "user": {
      "displayName": "Joseph Olayanju",
      "userId": "07239701715105728325"
     },
     "user_tz": -60
    },
    "id": "variable-enclosure",
    "outputId": "cfc673cd-b38b-4bc5-cd95-b9233d315103"
   },
   "outputs": [
    {
     "data": {
      "text/plain": [
       "__main__.User"
      ]
     },
     "execution_count": 4,
     "metadata": {},
     "output_type": "execute_result"
    }
   ],
   "source": [
    "type(user1)"
   ]
  },
  {
   "cell_type": "markdown",
   "id": "direct-projector",
   "metadata": {
    "id": "direct-projector"
   },
   "source": [
    "The object `user1` does not contain any useful information. Let's add a _constructor method_ to the class to store some _attributes_ or _properties_."
   ]
  },
  {
   "cell_type": "code",
   "execution_count": 5,
   "id": "excessive-force",
   "metadata": {
    "executionInfo": {
     "elapsed": 37,
     "status": "ok",
     "timestamp": 1683304313741,
     "user": {
      "displayName": "Joseph Olayanju",
      "userId": "07239701715105728325"
     },
     "user_tz": -60
    },
    "id": "excessive-force"
   },
   "outputs": [],
   "source": [
    "class User:\n",
    "    def __init__(self, username, name, email):\n",
    "        self.username = username\n",
    "        self.name = name\n",
    "        self.email = email\n",
    "        print('User created!')"
   ]
  },
  {
   "cell_type": "markdown",
   "id": "biblical-recommendation",
   "metadata": {
    "id": "biblical-recommendation"
   },
   "source": [
    "We can now create an object with some properties."
   ]
  },
  {
   "cell_type": "code",
   "execution_count": 6,
   "id": "above-daughter",
   "metadata": {
    "colab": {
     "base_uri": "https://localhost:8080/"
    },
    "executionInfo": {
     "elapsed": 586,
     "status": "ok",
     "timestamp": 1683304319895,
     "user": {
      "displayName": "Joseph Olayanju",
      "userId": "07239701715105728325"
     },
     "user_tz": -60
    },
    "id": "above-daughter",
    "outputId": "eab802a8-d531-49d2-996e-e3dccda6df4f"
   },
   "outputs": [
    {
     "name": "stdout",
     "output_type": "stream",
     "text": [
      "User created!\n"
     ]
    }
   ],
   "source": [
    "user2 = User('john', 'John Doe', 'john@doe.com')"
   ]
  },
  {
   "cell_type": "code",
   "execution_count": 7,
   "id": "single-roads",
   "metadata": {
    "colab": {
     "base_uri": "https://localhost:8080/"
    },
    "executionInfo": {
     "elapsed": 14,
     "status": "ok",
     "timestamp": 1683304352970,
     "user": {
      "displayName": "Joseph Olayanju",
      "userId": "07239701715105728325"
     },
     "user_tz": -60
    },
    "id": "single-roads",
    "outputId": "5d19d7f9-461e-4046-837c-6ddd8f3dfe90"
   },
   "outputs": [
    {
     "data": {
      "text/plain": [
       "<__main__.User at 0x7f27c4391fc0>"
      ]
     },
     "execution_count": 7,
     "metadata": {},
     "output_type": "execute_result"
    }
   ],
   "source": [
    "user2"
   ]
  },
  {
   "cell_type": "markdown",
   "id": "narrow-seeker",
   "metadata": {
    "id": "narrow-seeker"
   },
   "source": [
    "Here's what's happening above (conceptually):\n",
    "\n",
    "- Python creates an empty object of the type user and stores in the variable `user2`\n",
    "- Python then invokes the function `User.___init__` with the arguments `user2`, `\"john\"`, `\"John Doe\"` and `\"john@doe.com\"`\n",
    "- As the `__init__` function is executed, the properties `username`, `name` and `email` are set on the object `user2`\n"
   ]
  },
  {
   "cell_type": "markdown",
   "id": "injured-sheffield",
   "metadata": {
    "id": "injured-sheffield"
   },
   "source": [
    "We can access the properties of the object using the `.` notation."
   ]
  },
  {
   "cell_type": "code",
   "execution_count": 8,
   "id": "blessed-albert",
   "metadata": {
    "colab": {
     "base_uri": "https://localhost:8080/",
     "height": 35
    },
    "executionInfo": {
     "elapsed": 927,
     "status": "ok",
     "timestamp": 1683304360196,
     "user": {
      "displayName": "Joseph Olayanju",
      "userId": "07239701715105728325"
     },
     "user_tz": -60
    },
    "id": "blessed-albert",
    "outputId": "a93c4ff5-8dbc-41d6-9a95-9af398c4a1a1"
   },
   "outputs": [
    {
     "data": {
      "application/vnd.google.colaboratory.intrinsic+json": {
       "type": "string"
      },
      "text/plain": [
       "'John Doe'"
      ]
     },
     "execution_count": 8,
     "metadata": {},
     "output_type": "execute_result"
    }
   ],
   "source": [
    "user2.name"
   ]
  },
  {
   "cell_type": "code",
   "execution_count": 9,
   "id": "strategic-mixture",
   "metadata": {
    "colab": {
     "base_uri": "https://localhost:8080/"
    },
    "executionInfo": {
     "elapsed": 14,
     "status": "ok",
     "timestamp": 1683304362394,
     "user": {
      "displayName": "Joseph Olayanju",
      "userId": "07239701715105728325"
     },
     "user_tz": -60
    },
    "id": "strategic-mixture",
    "outputId": "2b4e47b6-0f86-4546-9f62-3b5c551413e0"
   },
   "outputs": [
    {
     "data": {
      "text/plain": [
       "('john@doe.com', 'john')"
      ]
     },
     "execution_count": 9,
     "metadata": {},
     "output_type": "execute_result"
    }
   ],
   "source": [
    "user2.email, user2.username"
   ]
  },
  {
   "cell_type": "markdown",
   "id": "international-arrow",
   "metadata": {
    "id": "international-arrow"
   },
   "source": [
    "You can also define custom methods inside a class."
   ]
  },
  {
   "cell_type": "code",
   "execution_count": 10,
   "id": "trying-listening",
   "metadata": {
    "executionInfo": {
     "elapsed": 11,
     "status": "ok",
     "timestamp": 1683304366481,
     "user": {
      "displayName": "Joseph Olayanju",
      "userId": "07239701715105728325"
     },
     "user_tz": -60
    },
    "id": "trying-listening"
   },
   "outputs": [],
   "source": [
    "class User:\n",
    "    def __init__(self, username, name, email):\n",
    "        self.username = username\n",
    "        self.name = name\n",
    "        self.email = email\n",
    "    \n",
    "    def introduce_yourself(self, guest_name):\n",
    "        print(\"Hi {}, I'm {}! Contact me at {} .\".format(guest_name, self.name, self.email))"
   ]
  },
  {
   "cell_type": "code",
   "execution_count": 11,
   "id": "previous-nicaragua",
   "metadata": {
    "executionInfo": {
     "elapsed": 558,
     "status": "ok",
     "timestamp": 1683304374883,
     "user": {
      "displayName": "Joseph Olayanju",
      "userId": "07239701715105728325"
     },
     "user_tz": -60
    },
    "id": "previous-nicaragua"
   },
   "outputs": [],
   "source": [
    "user3 = User('jane', 'Jane Doe', 'jane@doe.com')"
   ]
  },
  {
   "cell_type": "code",
   "execution_count": 12,
   "id": "negative-tunisia",
   "metadata": {
    "colab": {
     "base_uri": "https://localhost:8080/"
    },
    "executionInfo": {
     "elapsed": 644,
     "status": "ok",
     "timestamp": 1683304379313,
     "user": {
      "displayName": "Joseph Olayanju",
      "userId": "07239701715105728325"
     },
     "user_tz": -60
    },
    "id": "negative-tunisia",
    "outputId": "c6672707-d6d4-499c-b2a2-9852f4cfc347"
   },
   "outputs": [
    {
     "name": "stdout",
     "output_type": "stream",
     "text": [
      "Hi David, I'm Jane Doe! Contact me at jane@doe.com .\n"
     ]
    }
   ],
   "source": [
    "user3.introduce_yourself('David')"
   ]
  },
  {
   "cell_type": "markdown",
   "id": "rental-power",
   "metadata": {
    "id": "rental-power"
   },
   "source": [
    "When we try to invoke the method `user3.introduce_yourself`, the object `user3` is automatically passed as the first argument `self`. Indeed, the following statement is equivalent to the above statement."
   ]
  },
  {
   "cell_type": "code",
   "execution_count": 13,
   "id": "apparent-spring",
   "metadata": {
    "colab": {
     "base_uri": "https://localhost:8080/"
    },
    "executionInfo": {
     "elapsed": 13,
     "status": "ok",
     "timestamp": 1683304383841,
     "user": {
      "displayName": "Joseph Olayanju",
      "userId": "07239701715105728325"
     },
     "user_tz": -60
    },
    "id": "apparent-spring",
    "outputId": "63295c47-0786-449f-e944-cba9450c1686"
   },
   "outputs": [
    {
     "name": "stdout",
     "output_type": "stream",
     "text": [
      "Hi David, I'm Jane Doe! Contact me at jane@doe.com .\n"
     ]
    }
   ],
   "source": [
    "User.introduce_yourself(user3, 'David')"
   ]
  },
  {
   "cell_type": "markdown",
   "id": "veterinary-sustainability",
   "metadata": {
    "id": "veterinary-sustainability"
   },
   "source": [
    "Finally, we'll define a couple of helper methods to display user objects nicely within Jupyter."
   ]
  },
  {
   "cell_type": "code",
   "execution_count": 14,
   "id": "regular-equivalent",
   "metadata": {
    "executionInfo": {
     "elapsed": 1433,
     "status": "ok",
     "timestamp": 1683304390308,
     "user": {
      "displayName": "Joseph Olayanju",
      "userId": "07239701715105728325"
     },
     "user_tz": -60
    },
    "id": "regular-equivalent"
   },
   "outputs": [],
   "source": [
    "class User:\n",
    "    def __init__(self, username, name, email):\n",
    "        self.username = username\n",
    "        self.name = name\n",
    "        self.email = email\n",
    "        \n",
    "    def __repr__(self):\n",
    "        return \"User(username='{}', name='{}', email='{}')\".format(self.username, self.name, self.email)\n",
    "    \n",
    "    def __str__(self):\n",
    "        return self.__repr__()"
   ]
  },
  {
   "cell_type": "code",
   "execution_count": 15,
   "id": "bright-vegetation",
   "metadata": {
    "executionInfo": {
     "elapsed": 603,
     "status": "ok",
     "timestamp": 1683304394208,
     "user": {
      "displayName": "Joseph Olayanju",
      "userId": "07239701715105728325"
     },
     "user_tz": -60
    },
    "id": "bright-vegetation"
   },
   "outputs": [],
   "source": [
    "user4 = User('jane', 'Jane Doe', 'jane@doe.com')"
   ]
  },
  {
   "cell_type": "code",
   "execution_count": 16,
   "id": "controlling-vehicle",
   "metadata": {
    "colab": {
     "base_uri": "https://localhost:8080/"
    },
    "executionInfo": {
     "elapsed": 13,
     "status": "ok",
     "timestamp": 1683304398065,
     "user": {
      "displayName": "Joseph Olayanju",
      "userId": "07239701715105728325"
     },
     "user_tz": -60
    },
    "id": "controlling-vehicle",
    "outputId": "7c6ac082-8ab5-43ff-c088-5582a728084d"
   },
   "outputs": [
    {
     "data": {
      "text/plain": [
       "User(username='jane', name='Jane Doe', email='jane@doe.com')"
      ]
     },
     "execution_count": 16,
     "metadata": {},
     "output_type": "execute_result"
    }
   ],
   "source": [
    "user4"
   ]
  },
  {
   "cell_type": "markdown",
   "id": "closing-auditor",
   "metadata": {
    "id": "closing-auditor"
   },
   "source": [
    "**Exercise:** What is the purpose of defining the functions `__str__` and `__repr__` within a class? How are the two functions different? Illustrate with some examples using the empty cells below.\n",
    "\n",
    "\n",
    "Learn more about classes in Python here: https://jovian.ai/aakashns/python-classes-and-linked-lists ."
   ]
  },
  {
   "cell_type": "code",
   "execution_count": 17,
   "id": "satisfactory-pepper",
   "metadata": {
    "colab": {
     "base_uri": "https://localhost:8080/",
     "height": 35
    },
    "executionInfo": {
     "elapsed": 646,
     "status": "ok",
     "timestamp": 1683304404196,
     "user": {
      "displayName": "Joseph Olayanju",
      "userId": "07239701715105728325"
     },
     "user_tz": -60
    },
    "id": "satisfactory-pepper",
    "outputId": "312948e4-29d1-4d40-e8a3-f1c4f01ed05a"
   },
   "outputs": [
    {
     "data": {
      "application/vnd.google.colaboratory.intrinsic+json": {
       "type": "string"
      },
      "text/plain": [
       "'__str__ is a special method that, among other things, tells the print function how to print an object.'"
      ]
     },
     "execution_count": 17,
     "metadata": {},
     "output_type": "execute_result"
    }
   ],
   "source": [
    "\"__str__ is a special method that, among other things, tells the print function how to print an object.\""
   ]
  },
  {
   "cell_type": "code",
   "execution_count": 18,
   "id": "outside-jamaica",
   "metadata": {
    "colab": {
     "base_uri": "https://localhost:8080/",
     "height": 53
    },
    "executionInfo": {
     "elapsed": 19,
     "status": "ok",
     "timestamp": 1683304406460,
     "user": {
      "displayName": "Joseph Olayanju",
      "userId": "07239701715105728325"
     },
     "user_tz": -60
    },
    "id": "outside-jamaica",
    "outputId": "132573cf-cc14-4fb1-e3eb-4aacd60d9805"
   },
   "outputs": [
    {
     "data": {
      "application/vnd.google.colaboratory.intrinsic+json": {
       "type": "string"
      },
      "text/plain": [
       "'__repr__ is used to provide a detailed and unambiguous string representation of an object. This method is called when the repr() function is used on an object. The repr() function should return a string that can be used to recreate the object.'"
      ]
     },
     "execution_count": 18,
     "metadata": {},
     "output_type": "execute_result"
    }
   ],
   "source": [
    "\"__repr__ is used to provide a detailed and unambiguous string representation of an object. This method is called when the repr() function is used on an object. The repr() function should return a string that can be used to recreate the object.\""
   ]
  },
  {
   "cell_type": "markdown",
   "id": "enclosed-surface",
   "metadata": {
    "id": "enclosed-surface"
   },
   "source": [
    "#### Output\n",
    "\n",
    "We can also express our desired data structure as a Python class `UserDatabase` with four methods: `insert`, `find`, `update` and `list_all`. "
   ]
  },
  {
   "cell_type": "code",
   "execution_count": 19,
   "id": "matched-homework",
   "metadata": {
    "executionInfo": {
     "elapsed": 6,
     "status": "ok",
     "timestamp": 1683304412483,
     "user": {
      "displayName": "Joseph Olayanju",
      "userId": "07239701715105728325"
     },
     "user_tz": -60
    },
    "id": "matched-homework"
   },
   "outputs": [],
   "source": [
    "class UserDatabase:\n",
    "    def insert(self, user):\n",
    "        pass\n",
    "    \n",
    "    def find(self, username):\n",
    "        pass\n",
    "    \n",
    "    def update(self, user):\n",
    "        pass\n",
    "        \n",
    "    def list_all(self):\n",
    "        pass"
   ]
  },
  {
   "cell_type": "markdown",
   "id": "temporal-tender",
   "metadata": {
    "id": "temporal-tender"
   },
   "source": [
    "It's good programming practice to list out the signatures of different class functions before we actually implement the class."
   ]
  },
  {
   "cell_type": "markdown",
   "id": "laden-tiger",
   "metadata": {
    "id": "laden-tiger"
   },
   "source": [
    "## 2. Come up with some example inputs & outputs. \n",
    "\n",
    "Let's create some sample user profiles that we can use to test our functions once we implement them."
   ]
  },
  {
   "cell_type": "code",
   "execution_count": 20,
   "id": "appointed-guatemala",
   "metadata": {
    "executionInfo": {
     "elapsed": 1093,
     "status": "ok",
     "timestamp": 1683304421799,
     "user": {
      "displayName": "Joseph Olayanju",
      "userId": "07239701715105728325"
     },
     "user_tz": -60
    },
    "id": "appointed-guatemala"
   },
   "outputs": [],
   "source": [
    "aakash = User('aakash', 'Aakash Rai', 'aakash@example.com')\n",
    "biraj = User('biraj', 'Biraj Das', 'biraj@example.com')\n",
    "hemanth = User('hemanth', 'Hemanth Jain', 'hemanth@example.com')\n",
    "jadhesh = User('jadhesh', 'Jadhesh Verma', 'jadhesh@example.com')\n",
    "siddhant = User('siddhant', 'Siddhant Sinha', 'siddhant@example.com')\n",
    "sonaksh = User('sonaksh', 'Sonaksh Kumar', 'sonaksh@example.com')\n",
    "vishal = User('vishal', 'Vishal Goel', 'vishal@example.com')"
   ]
  },
  {
   "cell_type": "code",
   "execution_count": 21,
   "id": "digital-happening",
   "metadata": {
    "executionInfo": {
     "elapsed": 533,
     "status": "ok",
     "timestamp": 1683304430592,
     "user": {
      "displayName": "Joseph Olayanju",
      "userId": "07239701715105728325"
     },
     "user_tz": -60
    },
    "id": "digital-happening"
   },
   "outputs": [],
   "source": [
    "users = [aakash, biraj, hemanth, jadhesh, siddhant, sonaksh, vishal]"
   ]
  },
  {
   "cell_type": "markdown",
   "id": "introductory-prison",
   "metadata": {
    "id": "introductory-prison"
   },
   "source": [
    "We can access different fields within a user profile object using the `.` (dot) notation."
   ]
  },
  {
   "cell_type": "code",
   "execution_count": 22,
   "id": "extreme-judge",
   "metadata": {
    "colab": {
     "base_uri": "https://localhost:8080/"
    },
    "executionInfo": {
     "elapsed": 593,
     "status": "ok",
     "timestamp": 1683304437150,
     "user": {
      "displayName": "Joseph Olayanju",
      "userId": "07239701715105728325"
     },
     "user_tz": -60
    },
    "id": "extreme-judge",
    "outputId": "5d525c71-96c6-458f-b4a9-e9aeaf839625"
   },
   "outputs": [
    {
     "data": {
      "text/plain": [
       "('biraj', 'biraj@example.com', 'Biraj Das')"
      ]
     },
     "execution_count": 22,
     "metadata": {},
     "output_type": "execute_result"
    }
   ],
   "source": [
    "biraj.username, biraj.email, biraj.name"
   ]
  },
  {
   "cell_type": "markdown",
   "id": "reserved-transition",
   "metadata": {
    "id": "reserved-transition"
   },
   "source": [
    "We can also view a string representation of the object, since defined the `__repr__` and `__str__` methods"
   ]
  },
  {
   "cell_type": "code",
   "execution_count": 23,
   "id": "conceptual-clearing",
   "metadata": {
    "colab": {
     "base_uri": "https://localhost:8080/"
    },
    "executionInfo": {
     "elapsed": 32,
     "status": "ok",
     "timestamp": 1683304445815,
     "user": {
      "displayName": "Joseph Olayanju",
      "userId": "07239701715105728325"
     },
     "user_tz": -60
    },
    "id": "conceptual-clearing",
    "outputId": "06ca9bba-0206-4741-e089-d561f36625bd",
    "scrolled": true
   },
   "outputs": [
    {
     "name": "stdout",
     "output_type": "stream",
     "text": [
      "User(username='aakash', name='Aakash Rai', email='aakash@example.com')\n"
     ]
    }
   ],
   "source": [
    "print(aakash)"
   ]
  },
  {
   "cell_type": "code",
   "execution_count": 24,
   "id": "funky-start",
   "metadata": {
    "colab": {
     "base_uri": "https://localhost:8080/"
    },
    "executionInfo": {
     "elapsed": 16,
     "status": "ok",
     "timestamp": 1683304447870,
     "user": {
      "displayName": "Joseph Olayanju",
      "userId": "07239701715105728325"
     },
     "user_tz": -60
    },
    "id": "funky-start",
    "outputId": "97fda7a9-8cf7-49a7-f6a7-0c01380976bd"
   },
   "outputs": [
    {
     "data": {
      "text/plain": [
       "[User(username='aakash', name='Aakash Rai', email='aakash@example.com'),\n",
       " User(username='biraj', name='Biraj Das', email='biraj@example.com'),\n",
       " User(username='hemanth', name='Hemanth Jain', email='hemanth@example.com'),\n",
       " User(username='jadhesh', name='Jadhesh Verma', email='jadhesh@example.com'),\n",
       " User(username='siddhant', name='Siddhant Sinha', email='siddhant@example.com'),\n",
       " User(username='sonaksh', name='Sonaksh Kumar', email='sonaksh@example.com'),\n",
       " User(username='vishal', name='Vishal Goel', email='vishal@example.com')]"
      ]
     },
     "execution_count": 24,
     "metadata": {},
     "output_type": "execute_result"
    }
   ],
   "source": [
    "users"
   ]
  },
  {
   "cell_type": "markdown",
   "id": "broken-methodology",
   "metadata": {
    "id": "broken-methodology"
   },
   "source": [
    "Since we haven't implemented our data structure yet, it's not possible to list sample outputs. However you can try to come up with different scenarios to test future implementations\n",
    "\n",
    "**Exercise:** List some scenarios for testing the class methods `insert`, `find`, `update` and `list_all`.\n",
    "\n",
    "1. Insert:\n",
    "    1. Inserting into an empty database of users\n",
    "    2. Trying to insert a user with a username that already exists\n",
    "    3. Inserting a user with a username that does not exist\n",
    "    4. Inserting multiple usernames at once\n",
    "\n",
    "2. Find:\n",
    "    1. Find a user based on a particular attribute\n",
    "    2. Find all users in the organization\n",
    "    3. Find a user that doesn't exist\n",
    "\n",
    "3. Update:\n",
    "    1. Update an attribute of a user\n",
    "    2. Update a user with an invalid data\n",
    "    3. Update a user with valid data\n",
    "\n",
    "4. List:\n",
    "    1. List all users based on a query\n",
    "    2. List when there are no users\n",
    "    3. List all users\n",
    "\n",
    "\n"
   ]
  },
  {
   "cell_type": "markdown",
   "id": "nuclear-infrared",
   "metadata": {
    "id": "nuclear-infrared"
   },
   "source": [
    "## 3. Come up with a correct solution. State it in plain English.\n",
    "\n",
    "Here's a simple and easy solution to the problem: we store the `User` objects in a list sorted by usernames. \n",
    "\n",
    "The various functions can be implemented as follows:\n",
    "\n",
    "1. **Insert**: Loop through the list and add the new user at a position that keeps the list sorted.\n",
    "2. **Find**: Loop through the list and find the user object with the username matching the query.\n",
    "3. **Update**: Loop through the list, find the user object matching the query and update the details\n",
    "4. **List**: Return the list of user objects.\n",
    "\n",
    "We can use the fact usernames, which are are strings can be compared using the `<`, `>` and `==` operators in Python."
   ]
  },
  {
   "cell_type": "code",
   "execution_count": 25,
   "id": "fifth-polymer",
   "metadata": {
    "colab": {
     "base_uri": "https://localhost:8080/"
    },
    "executionInfo": {
     "elapsed": 627,
     "status": "ok",
     "timestamp": 1683304455659,
     "user": {
      "displayName": "Joseph Olayanju",
      "userId": "07239701715105728325"
     },
     "user_tz": -60
    },
    "id": "fifth-polymer",
    "outputId": "8dfdb5f2-e415-4e82-afe8-a48462c369fc"
   },
   "outputs": [
    {
     "data": {
      "text/plain": [
       "True"
      ]
     },
     "execution_count": 25,
     "metadata": {},
     "output_type": "execute_result"
    }
   ],
   "source": [
    "'biraj' < 'hemanth'"
   ]
  },
  {
   "cell_type": "markdown",
   "id": "computational-affairs",
   "metadata": {
    "id": "computational-affairs"
   },
   "source": [
    "## 4. Implement the solution and test it using example inputs.\n",
    "\n",
    "The code for implementing the above solution is also fairly straightfoward."
   ]
  },
  {
   "cell_type": "code",
   "execution_count": 26,
   "id": "detailed-technician",
   "metadata": {
    "executionInfo": {
     "elapsed": 469,
     "status": "ok",
     "timestamp": 1683304464329,
     "user": {
      "displayName": "Joseph Olayanju",
      "userId": "07239701715105728325"
     },
     "user_tz": -60
    },
    "id": "detailed-technician"
   },
   "outputs": [],
   "source": [
    "class UserDatabase:\n",
    "    def __init__(self):\n",
    "        self.users = []\n",
    "    \n",
    "    def insert(self, user):\n",
    "        i = 0\n",
    "        while i < len(self.users):\n",
    "            # Find the first username greater than the new user's username\n",
    "            if self.users[i].username > user.username:\n",
    "                break\n",
    "            i += 1\n",
    "        self.users.insert(i, user)\n",
    "    \n",
    "    def find(self, username):\n",
    "        for user in self.users:\n",
    "            if user.username == username:\n",
    "                return user\n",
    "    \n",
    "    def update(self, user):\n",
    "        target = self.find(user.username)\n",
    "        target.name, target.email = user.name, user.email\n",
    "        \n",
    "    def list_all(self):\n",
    "        return self.users"
   ]
  },
  {
   "cell_type": "markdown",
   "id": "rational-retrieval",
   "metadata": {
    "id": "rational-retrieval"
   },
   "source": [
    "We can create a new database of users by _instantiating_ and object of the `UserDatabase` class."
   ]
  },
  {
   "cell_type": "code",
   "execution_count": 27,
   "id": "useful-sperm",
   "metadata": {
    "executionInfo": {
     "elapsed": 10,
     "status": "ok",
     "timestamp": 1683304471912,
     "user": {
      "displayName": "Joseph Olayanju",
      "userId": "07239701715105728325"
     },
     "user_tz": -60
    },
    "id": "useful-sperm"
   },
   "outputs": [],
   "source": [
    "database = UserDatabase()"
   ]
  },
  {
   "cell_type": "markdown",
   "id": "enabling-billion",
   "metadata": {
    "id": "enabling-billion"
   },
   "source": [
    "Let's insert some entires into the object."
   ]
  },
  {
   "cell_type": "code",
   "execution_count": 28,
   "id": "regular-relevance",
   "metadata": {
    "executionInfo": {
     "elapsed": 528,
     "status": "ok",
     "timestamp": 1683304477146,
     "user": {
      "displayName": "Joseph Olayanju",
      "userId": "07239701715105728325"
     },
     "user_tz": -60
    },
    "id": "regular-relevance"
   },
   "outputs": [],
   "source": [
    "database.insert(hemanth)\n",
    "database.insert(aakash)\n",
    "database.insert(siddhant)"
   ]
  },
  {
   "cell_type": "markdown",
   "id": "entire-professional",
   "metadata": {
    "id": "entire-professional"
   },
   "source": [
    "We can now retrieve the data for a user, given their username."
   ]
  },
  {
   "cell_type": "code",
   "execution_count": 29,
   "id": "incoming-session",
   "metadata": {
    "colab": {
     "base_uri": "https://localhost:8080/"
    },
    "executionInfo": {
     "elapsed": 1485,
     "status": "ok",
     "timestamp": 1683304487449,
     "user": {
      "displayName": "Joseph Olayanju",
      "userId": "07239701715105728325"
     },
     "user_tz": -60
    },
    "id": "incoming-session",
    "outputId": "0bbca60d-7d01-45ff-bde3-00cf017a9c9a"
   },
   "outputs": [
    {
     "data": {
      "text/plain": [
       "User(username='siddhant', name='Siddhant Sinha', email='siddhant@example.com')"
      ]
     },
     "execution_count": 29,
     "metadata": {},
     "output_type": "execute_result"
    }
   ],
   "source": [
    "user = database.find('siddhant')\n",
    "user"
   ]
  },
  {
   "cell_type": "markdown",
   "id": "lesbian-location",
   "metadata": {
    "id": "lesbian-location"
   },
   "source": [
    "Let's try changing the information for a user"
   ]
  },
  {
   "cell_type": "code",
   "execution_count": 30,
   "id": "wanted-colonial",
   "metadata": {
    "executionInfo": {
     "elapsed": 12,
     "status": "ok",
     "timestamp": 1683304492171,
     "user": {
      "displayName": "Joseph Olayanju",
      "userId": "07239701715105728325"
     },
     "user_tz": -60
    },
    "id": "wanted-colonial"
   },
   "outputs": [],
   "source": [
    "database.update(User(username='siddhant', name='Siddhant U', email='siddhantu@example.com'))"
   ]
  },
  {
   "cell_type": "code",
   "execution_count": 31,
   "id": "starting-hurricane",
   "metadata": {
    "colab": {
     "base_uri": "https://localhost:8080/"
    },
    "executionInfo": {
     "elapsed": 17,
     "status": "ok",
     "timestamp": 1683304494240,
     "user": {
      "displayName": "Joseph Olayanju",
      "userId": "07239701715105728325"
     },
     "user_tz": -60
    },
    "id": "starting-hurricane",
    "outputId": "06ac1661-b4ee-41fe-c9ec-172ff96eb905"
   },
   "outputs": [
    {
     "data": {
      "text/plain": [
       "User(username='siddhant', name='Siddhant U', email='siddhantu@example.com')"
      ]
     },
     "execution_count": 31,
     "metadata": {},
     "output_type": "execute_result"
    }
   ],
   "source": [
    "user = database.find('siddhant')\n",
    "user"
   ]
  },
  {
   "cell_type": "markdown",
   "id": "minor-accident",
   "metadata": {
    "id": "minor-accident"
   },
   "source": [
    "Finally, we can retrieve a list of users in alphabetical order."
   ]
  },
  {
   "cell_type": "code",
   "execution_count": 32,
   "id": "approved-square",
   "metadata": {
    "colab": {
     "base_uri": "https://localhost:8080/"
    },
    "executionInfo": {
     "elapsed": 563,
     "status": "ok",
     "timestamp": 1683304500603,
     "user": {
      "displayName": "Joseph Olayanju",
      "userId": "07239701715105728325"
     },
     "user_tz": -60
    },
    "id": "approved-square",
    "outputId": "1439e9e8-9065-463b-c8b9-761e60b22459"
   },
   "outputs": [
    {
     "data": {
      "text/plain": [
       "[User(username='aakash', name='Aakash Rai', email='aakash@example.com'),\n",
       " User(username='hemanth', name='Hemanth Jain', email='hemanth@example.com'),\n",
       " User(username='siddhant', name='Siddhant U', email='siddhantu@example.com')]"
      ]
     },
     "execution_count": 32,
     "metadata": {},
     "output_type": "execute_result"
    }
   ],
   "source": [
    "database.list_all()"
   ]
  },
  {
   "cell_type": "markdown",
   "id": "together-basketball",
   "metadata": {
    "id": "together-basketball"
   },
   "source": [
    "Let's verify that a new user is inserted into the correct position."
   ]
  },
  {
   "cell_type": "code",
   "execution_count": 33,
   "id": "advised-hungarian",
   "metadata": {
    "executionInfo": {
     "elapsed": 576,
     "status": "ok",
     "timestamp": 1683304506797,
     "user": {
      "displayName": "Joseph Olayanju",
      "userId": "07239701715105728325"
     },
     "user_tz": -60
    },
    "id": "advised-hungarian"
   },
   "outputs": [],
   "source": [
    "database.insert(biraj)"
   ]
  },
  {
   "cell_type": "code",
   "execution_count": 34,
   "id": "radio-smell",
   "metadata": {
    "colab": {
     "base_uri": "https://localhost:8080/"
    },
    "executionInfo": {
     "elapsed": 14,
     "status": "ok",
     "timestamp": 1683304510818,
     "user": {
      "displayName": "Joseph Olayanju",
      "userId": "07239701715105728325"
     },
     "user_tz": -60
    },
    "id": "radio-smell",
    "outputId": "2e8182b9-1e4d-499a-e1fb-4d06800dffec"
   },
   "outputs": [
    {
     "data": {
      "text/plain": [
       "[User(username='aakash', name='Aakash Rai', email='aakash@example.com'),\n",
       " User(username='biraj', name='Biraj Das', email='biraj@example.com'),\n",
       " User(username='hemanth', name='Hemanth Jain', email='hemanth@example.com'),\n",
       " User(username='siddhant', name='Siddhant U', email='siddhantu@example.com')]"
      ]
     },
     "execution_count": 34,
     "metadata": {},
     "output_type": "execute_result"
    }
   ],
   "source": [
    "database.list_all()"
   ]
  },
  {
   "cell_type": "markdown",
   "id": "comfortable-satisfaction",
   "metadata": {
    "id": "comfortable-satisfaction"
   },
   "source": [
    "The user `biraj` was inserted just before `hemanth`, as expected.\n",
    "\n",
    "**Exercise:** Use the empty cells below to test the various scenarios you listed in step 2 above."
   ]
  },
  {
   "cell_type": "code",
   "execution_count": 35,
   "id": "removed-still",
   "metadata": {
    "executionInfo": {
     "elapsed": 11,
     "status": "ok",
     "timestamp": 1683304522633,
     "user": {
      "displayName": "Joseph Olayanju",
      "userId": "07239701715105728325"
     },
     "user_tz": -60
    },
    "id": "removed-still"
   },
   "outputs": [],
   "source": [
    "database.find('caleeb')"
   ]
  },
  {
   "cell_type": "code",
   "execution_count": 37,
   "id": "concerned-congress",
   "metadata": {
    "colab": {
     "base_uri": "https://localhost:8080/",
     "height": 165
    },
    "executionInfo": {
     "elapsed": 20,
     "status": "error",
     "timestamp": 1683304565688,
     "user": {
      "displayName": "Joseph Olayanju",
      "userId": "07239701715105728325"
     },
     "user_tz": -60
    },
    "id": "concerned-congress",
    "outputId": "eefa590a-2400-46a5-fd7d-076dd1bf3ab8"
   },
   "outputs": [
    {
     "ename": "NameError",
     "evalue": "ignored",
     "output_type": "error",
     "traceback": [
      "\u001b[0;31m---------------------------------------------------------------------------\u001b[0m",
      "\u001b[0;31mNameError\u001b[0m                                 Traceback (most recent call last)",
      "\u001b[0;32m<ipython-input-37-67e5bd457cca>\u001b[0m in \u001b[0;36m<cell line: 1>\u001b[0;34m()\u001b[0m\n\u001b[0;32m----> 1\u001b[0;31m \u001b[0mdatabase\u001b[0m\u001b[0;34m.\u001b[0m\u001b[0minsert\u001b[0m\u001b[0;34m(\u001b[0m\u001b[0mjoseph\u001b[0m\u001b[0;34m)\u001b[0m\u001b[0;34m\u001b[0m\u001b[0;34m\u001b[0m\u001b[0m\n\u001b[0m",
      "\u001b[0;31mNameError\u001b[0m: name 'joseph' is not defined"
     ]
    }
   ],
   "source": [
    "database.insert(joseph)"
   ]
  },
  {
   "cell_type": "code",
   "execution_count": 38,
   "id": "floppy-technician",
   "metadata": {
    "colab": {
     "base_uri": "https://localhost:8080/"
    },
    "executionInfo": {
     "elapsed": 624,
     "status": "ok",
     "timestamp": 1683304581259,
     "user": {
      "displayName": "Joseph Olayanju",
      "userId": "07239701715105728325"
     },
     "user_tz": -60
    },
    "id": "floppy-technician",
    "outputId": "1f0b5b05-8634-4c82-b28e-d91d4aeca609"
   },
   "outputs": [
    {
     "data": {
      "text/plain": [
       "User(username='siddhant', name='Joseph', email='me@gmail.com')"
      ]
     },
     "execution_count": 38,
     "metadata": {},
     "output_type": "execute_result"
    }
   ],
   "source": [
    "database.update(User(username=\"siddhant\", name=\"Joseph\", email=\"me@gmail.com\"))\n",
    "user"
   ]
  },
  {
   "cell_type": "markdown",
   "id": "dangerous-venezuela",
   "metadata": {
    "id": "dangerous-venezuela"
   },
   "source": [
    "## 5. Analyze the algorithm's complexity and identify inefficiencies\n",
    "\n",
    "The operations `insert`, `find`, `update` involves iterating over a list of users, in the worst case, they may take up to `N` iterations to return a result, where `N` is the total number of users. `list_all` however, simply returns the existing internal list of users. \n",
    "\n",
    "Thus, the time complexities of the various operations are:\n",
    "\n",
    "1. Insert: **O(N)**\n",
    "2. Find: **O(N)**\n",
    "3. Update: **O(N)**\n",
    "4. List: **O(1)**\n",
    "\n",
    "**Exercise:** Verify that the space complexity of each operation is **O(1)**.\n",
    "\n",
    "Is this good enough? To get a sense how long each function might take if there are 100 million users on the platform, we can simply run an `for` or `while` loop on 10 million numbers."
   ]
  },
  {
   "cell_type": "code",
   "execution_count": 39,
   "id": "healthy-blade",
   "metadata": {
    "colab": {
     "base_uri": "https://localhost:8080/"
    },
    "executionInfo": {
     "elapsed": 12821,
     "status": "ok",
     "timestamp": 1683304605196,
     "user": {
      "displayName": "Joseph Olayanju",
      "userId": "07239701715105728325"
     },
     "user_tz": -60
    },
    "id": "healthy-blade",
    "outputId": "0e9c71c6-f131-4ad5-a180-b7988fd300a3"
   },
   "outputs": [
    {
     "name": "stdout",
     "output_type": "stream",
     "text": [
      "CPU times: user 12.3 s, sys: 15 ms, total: 12.3 s\n",
      "Wall time: 12.4 s\n"
     ]
    }
   ],
   "source": [
    "%%time\n",
    "for i in range(100000000):\n",
    "    j = i*i"
   ]
  },
  {
   "cell_type": "markdown",
   "id": "endangered-centre",
   "metadata": {
    "id": "endangered-centre"
   },
   "source": [
    "It takes almost 10 seconds to execute all the iterations in the above cell. \n",
    "\n",
    "* A 10-second delay for fetching user profiles will lead to a suboptimal users experience and may cause many users to stop using the platform altogether. \n",
    "* The 10-second processing time for each profile request will also significantly limit the number of users that can access the platform at a time or increase the cloud infrastructure costs for the company by millions of dollars.\n",
    "\n",
    "As a senior backend engineer, you must come up with a more efficient data structure! Choosing the right data structure for the requirements at hand is an important skill. It's apparent that a sorted list of users might not be the best data structure to organize profile information for millions of users. "
   ]
  },
  {
   "cell_type": "markdown",
   "id": "popular-launch",
   "metadata": {
    "id": "popular-launch"
   },
   "source": [
    "### Save and upload your work to Jovian\n",
    "\n",
    "Whether you're running this Jupyter notebook online or on your computer, it's essential to save your work from time to time. You can continue working on a saved notebook later or share it with friends and colleagues to let them execute your code. [Jovian](https://jovian.ai/platform-features) offers an easy way of saving and sharing your Jupyter notebooks online."
   ]
  },
  {
   "cell_type": "code",
   "execution_count": 40,
   "id": "interpreted-engine",
   "metadata": {
    "colab": {
     "base_uri": "https://localhost:8080/"
    },
    "executionInfo": {
     "elapsed": 8951,
     "status": "ok",
     "timestamp": 1683304623442,
     "user": {
      "displayName": "Joseph Olayanju",
      "userId": "07239701715105728325"
     },
     "user_tz": -60
    },
    "id": "interpreted-engine",
    "outputId": "c4837e8f-324c-46d5-ea01-bda65ca9db1f"
   },
   "outputs": [
    {
     "name": "stdout",
     "output_type": "stream",
     "text": [
      "\u001b[?25l     \u001b[90m━━━━━━━━━━━━━━━━━━━━━━━━━━━━━━━━━━━━━━━━\u001b[0m \u001b[32m0.0/68.6 kB\u001b[0m \u001b[31m?\u001b[0m eta \u001b[36m-:--:--\u001b[0m\r",
      "\u001b[2K     \u001b[90m━━━━━━━━━━━━━━━━━━━━━━━━━━━━━━━━━━━━━━━━\u001b[0m \u001b[32m68.6/68.6 kB\u001b[0m \u001b[31m2.6 MB/s\u001b[0m eta \u001b[36m0:00:00\u001b[0m\n",
      "\u001b[?25h  Preparing metadata (setup.py) ... \u001b[?25l\u001b[?25hdone\n",
      "  Building wheel for uuid (setup.py) ... \u001b[?25l\u001b[?25hdone\n"
     ]
    }
   ],
   "source": [
    "!pip install jovian --upgrade --quiet"
   ]
  },
  {
   "cell_type": "code",
   "execution_count": 41,
   "id": "concrete-groove",
   "metadata": {
    "executionInfo": {
     "elapsed": 10,
     "status": "ok",
     "timestamp": 1683304635627,
     "user": {
      "displayName": "Joseph Olayanju",
      "userId": "07239701715105728325"
     },
     "user_tz": -60
    },
    "id": "concrete-groove"
   },
   "outputs": [],
   "source": [
    "import jovian"
   ]
  },
  {
   "cell_type": "code",
   "execution_count": 42,
   "id": "spread-agriculture",
   "metadata": {
    "colab": {
     "base_uri": "https://localhost:8080/"
    },
    "executionInfo": {
     "elapsed": 581,
     "status": "ok",
     "timestamp": 1683304640191,
     "user": {
      "displayName": "Joseph Olayanju",
      "userId": "07239701715105728325"
     },
     "user_tz": -60
    },
    "id": "spread-agriculture",
    "outputId": "466ea59a-7857-4a62-a5fe-c7338be193ef"
   },
   "outputs": [
    {
     "name": "stdout",
     "output_type": "stream",
     "text": [
      "[jovian] Detected Colab notebook...\u001b[0m\n",
      "[jovian] jovian.commit() is no longer required on Google Colab. If you ran this notebook from Jovian, \n",
      "then just save this file in Colab using Ctrl+S/Cmd+S and it will be updated on Jovian. \n",
      "Also, you can also delete this cell, it's no longer necessary.\u001b[0m\n"
     ]
    }
   ],
   "source": [
    "jovian.commit(project='python-binary-search-trees')"
   ]
  },
  {
   "cell_type": "markdown",
   "id": "bright-nothing",
   "metadata": {
    "id": "bright-nothing"
   },
   "source": [
    "## 6. Apply the right technique to overcome the inefficiency\n",
    "\n",
    "We can limit the number of iterations required for common operations like find, insert and update by organizing our data in the following structure, called a **binary tree**:\n",
    "\n",
    "<img src=\"https://i.imgur.com/lVqP63n.png\" width=\"520\">\n",
    "\n",
    "\n",
    "\n",
    "It's called a tree because it vaguely like an inverted tree trunk with branches. \n",
    "* The word \"binary\" indicates that each \"node\" in the tree can have at most 2 children (left or right). \n",
    "* Nodes can have 0, 1 or 2 children. Nodes that do not have any children are sometimes also called \"leaves\".\n",
    "* The single node at the top is called the \"root\" node, and it typically where operations like search, insertion etc. begin.\n",
    "\n",
    "<img src=\"https://i.imgur.com/TZHMKJr.png\" width=\"400\">\n"
   ]
  },
  {
   "cell_type": "markdown",
   "id": "useful-blade",
   "metadata": {
    "id": "useful-blade"
   },
   "source": [
    "## Balanced Binary Search Trees\n",
    "\n",
    "<img src=\"https://i.imgur.com/Mqef5b3.png\" width=\"520\">\n",
    "\n",
    "For our use case, we require the binary tree to have some additional properties:\n",
    "\n",
    "1. **Keys and Values**: Each node of the tree stores a key (a username) and a value (a `User` object). Only keys are shown in the picture above for brevity. A binary tree where nodes have both a key and a value is often referred to as a **map** or **treemap** (because it maps keys to values).\n",
    "2. **Binary Search Tree**: The *left subtree* of any node only contains nodes with keys that are lexicographically smaller than the node's key, and the *right subtree* of any node only contains nodes with keys that lexicographically larger than the node's key. A tree that satisfies this property is called a **binary search trees**, and it's easy to locate a specific key by traversing a single path down from the root note.\n",
    "3. **Balanced Tree**: The tree is **balanced** i.e. it does not skew too heavily to one side or the other. The left and right subtrees of any node shouldn't differ in height/depth by more than 1 level.\n",
    "\n",
    "\n",
    "### Height of a Binary Tree\n",
    "\n",
    "The number of levels in a tree is called its height. As you can tell from the picture above, each level of a tree contains twice as many nodes as the previous level. \n",
    "\n",
    "For a tree of height `k`, here's a list of the number of nodes at each level:\n",
    "\n",
    "Level 0: `1`\n",
    "\n",
    "Level 1: `2`\n",
    "\n",
    "Level 2: `4` i.e. `2^2`\n",
    "\n",
    "Level 3: `8` i.e. `2^3`\n",
    "\n",
    "...\n",
    "\n",
    "Level k-1: `2^(k-1)`\n",
    "\n",
    "If the total number of nodes in the tree is `N`, then it follows that\n",
    "\n",
    "```\n",
    "N = 1 + 2^1 + 2^2 + 2^3 + ... + 2^(k-1)\n",
    "```\n",
    "\n",
    "\n",
    "We can simplify this equation by adding `1` on each side:\n",
    "\n",
    "```\n",
    "N + 1 = 1 + 1 + 2^1 + 2^2 + 2^3 + ... + 2^(k-1) \n",
    "\n",
    "N + 1 = 2^1 + 2^1 + 2^2+ 2^3 + ... + 2^(k-1) \n",
    "\n",
    "N + 1 = = 2^2 + 2^2 + 2^3 + ... + 2^(k-1)\n",
    "\n",
    "N + 1 = = 2^3 + 2^3 + ... + 2^(k-1)\n",
    "\n",
    "...\n",
    "\n",
    "N + 1 = 2^(k-1) + 2^(k-1)\n",
    "\n",
    "N + 1 = 2^k\n",
    "\n",
    "k = log(N + 1) <= log(N) + 1 \n",
    "\n",
    "```\n",
    "\n",
    "Thus, to store `N` records we require a balanced binary search tree (BST) of height no larger than `log(N) + 1`. This is a very useful property, in combination with the fact that nodes are arranged in a way that makes it easy to find a specific key by following a single path down from the root. \n",
    "\n",
    "As we'll see soon, the `insert`, `find` and `update` operations in a balanced BST have time complexity `O(log N)` since they all involve traversing a single path down from the root of the tree."
   ]
  },
  {
   "cell_type": "markdown",
   "id": "fatty-brook",
   "metadata": {
    "id": "fatty-brook"
   },
   "source": [
    "## Binary Tree\n",
    "\n",
    "> **QUESTION 2**: Implement a binary tree using Python, and show its usage with some examples.\n",
    "\n",
    "To begin, we'll create simple binary tree (without any of the additional properties) containing numbers as keys within nodes. Here's an example:\n",
    "\n",
    "<img src=\"https://i.imgur.com/hg2ZG5h.png\" width=\"240\">\n",
    "\n",
    "Here's a simple class representing a node within a binary tree.\n"
   ]
  },
  {
   "cell_type": "code",
   "execution_count": 43,
   "id": "concerned-guarantee",
   "metadata": {
    "executionInfo": {
     "elapsed": 552,
     "status": "ok",
     "timestamp": 1683304648240,
     "user": {
      "displayName": "Joseph Olayanju",
      "userId": "07239701715105728325"
     },
     "user_tz": -60
    },
    "id": "concerned-guarantee"
   },
   "outputs": [],
   "source": [
    "class TreeNode:\n",
    "    def __init__(self, key):\n",
    "        self.key = key\n",
    "        self.left = None\n",
    "        self.right = None"
   ]
  },
  {
   "cell_type": "markdown",
   "id": "super-accuracy",
   "metadata": {
    "id": "super-accuracy"
   },
   "source": [
    "Let's create objects representing each node of the above tree"
   ]
  },
  {
   "cell_type": "code",
   "execution_count": 44,
   "id": "activated-medicaid",
   "metadata": {
    "executionInfo": {
     "elapsed": 54,
     "status": "ok",
     "timestamp": 1683304654775,
     "user": {
      "displayName": "Joseph Olayanju",
      "userId": "07239701715105728325"
     },
     "user_tz": -60
    },
    "id": "activated-medicaid"
   },
   "outputs": [],
   "source": [
    "node0 = TreeNode(3)\n",
    "node1 = TreeNode(4)\n",
    "node2 = TreeNode(5)"
   ]
  },
  {
   "cell_type": "markdown",
   "id": "suited-accessory",
   "metadata": {
    "id": "suited-accessory"
   },
   "source": [
    "Let's verify that `node0` is an object of the type `TreeNode` and has the property `key` set to `3`."
   ]
  },
  {
   "cell_type": "code",
   "execution_count": 45,
   "id": "different-spelling",
   "metadata": {
    "colab": {
     "base_uri": "https://localhost:8080/"
    },
    "executionInfo": {
     "elapsed": 16,
     "status": "ok",
     "timestamp": 1683304659950,
     "user": {
      "displayName": "Joseph Olayanju",
      "userId": "07239701715105728325"
     },
     "user_tz": -60
    },
    "id": "different-spelling",
    "outputId": "9646a48e-11f8-4683-c54b-1e7444a4c18d"
   },
   "outputs": [
    {
     "data": {
      "text/plain": [
       "<__main__.TreeNode at 0x7f279f2f9660>"
      ]
     },
     "execution_count": 45,
     "metadata": {},
     "output_type": "execute_result"
    }
   ],
   "source": [
    "node0"
   ]
  },
  {
   "cell_type": "code",
   "execution_count": 46,
   "id": "incorporated-hacker",
   "metadata": {
    "colab": {
     "base_uri": "https://localhost:8080/"
    },
    "executionInfo": {
     "elapsed": 8,
     "status": "ok",
     "timestamp": 1683304663214,
     "user": {
      "displayName": "Joseph Olayanju",
      "userId": "07239701715105728325"
     },
     "user_tz": -60
    },
    "id": "incorporated-hacker",
    "outputId": "70c1bc8a-74d7-4ca1-8898-0578a7246603"
   },
   "outputs": [
    {
     "data": {
      "text/plain": [
       "3"
      ]
     },
     "execution_count": 46,
     "metadata": {},
     "output_type": "execute_result"
    }
   ],
   "source": [
    "node0.key"
   ]
  },
  {
   "cell_type": "markdown",
   "id": "impressed-charity",
   "metadata": {
    "id": "impressed-charity"
   },
   "source": [
    "We can *connect* the nodes by setting the `.left` and `.right` properties of the root node."
   ]
  },
  {
   "cell_type": "code",
   "execution_count": 47,
   "id": "challenging-seventh",
   "metadata": {
    "executionInfo": {
     "elapsed": 9,
     "status": "ok",
     "timestamp": 1683304667863,
     "user": {
      "displayName": "Joseph Olayanju",
      "userId": "07239701715105728325"
     },
     "user_tz": -60
    },
    "id": "challenging-seventh"
   },
   "outputs": [],
   "source": [
    "node0.left = node1\n",
    "node0.right = node2"
   ]
  },
  {
   "cell_type": "markdown",
   "id": "roman-garage",
   "metadata": {
    "id": "roman-garage"
   },
   "source": [
    "And we're done! We can create a new variable *tree* which simply points to the root node, and use it to access all the nodes within the tree.\n",
    "\n",
    "<img src=\"https://i.imgur.com/hg2ZG5h.png\" width=\"240\">"
   ]
  },
  {
   "cell_type": "code",
   "execution_count": 48,
   "id": "recorded-empire",
   "metadata": {
    "executionInfo": {
     "elapsed": 879,
     "status": "ok",
     "timestamp": 1683304675662,
     "user": {
      "displayName": "Joseph Olayanju",
      "userId": "07239701715105728325"
     },
     "user_tz": -60
    },
    "id": "recorded-empire"
   },
   "outputs": [],
   "source": [
    "tree = node0"
   ]
  },
  {
   "cell_type": "code",
   "execution_count": 49,
   "id": "elder-fiction",
   "metadata": {
    "colab": {
     "base_uri": "https://localhost:8080/"
    },
    "executionInfo": {
     "elapsed": 13,
     "status": "ok",
     "timestamp": 1683304678561,
     "user": {
      "displayName": "Joseph Olayanju",
      "userId": "07239701715105728325"
     },
     "user_tz": -60
    },
    "id": "elder-fiction",
    "outputId": "04037995-67f6-4f97-e92d-ef9e1b883f2c"
   },
   "outputs": [
    {
     "data": {
      "text/plain": [
       "3"
      ]
     },
     "execution_count": 49,
     "metadata": {},
     "output_type": "execute_result"
    }
   ],
   "source": [
    "tree.key"
   ]
  },
  {
   "cell_type": "code",
   "execution_count": 50,
   "id": "afraid-balloon",
   "metadata": {
    "colab": {
     "base_uri": "https://localhost:8080/"
    },
    "executionInfo": {
     "elapsed": 3,
     "status": "ok",
     "timestamp": 1683304681422,
     "user": {
      "displayName": "Joseph Olayanju",
      "userId": "07239701715105728325"
     },
     "user_tz": -60
    },
    "id": "afraid-balloon",
    "outputId": "a6d37321-18aa-44be-fff7-90acef388657"
   },
   "outputs": [
    {
     "data": {
      "text/plain": [
       "4"
      ]
     },
     "execution_count": 50,
     "metadata": {},
     "output_type": "execute_result"
    }
   ],
   "source": [
    "tree.left.key"
   ]
  },
  {
   "cell_type": "code",
   "execution_count": 51,
   "id": "traditional-brother",
   "metadata": {
    "colab": {
     "base_uri": "https://localhost:8080/"
    },
    "executionInfo": {
     "elapsed": 541,
     "status": "ok",
     "timestamp": 1683304682740,
     "user": {
      "displayName": "Joseph Olayanju",
      "userId": "07239701715105728325"
     },
     "user_tz": -60
    },
    "id": "traditional-brother",
    "outputId": "a9afdfcf-f058-4fcc-8bc6-dd213f4e92e8"
   },
   "outputs": [
    {
     "data": {
      "text/plain": [
       "5"
      ]
     },
     "execution_count": 51,
     "metadata": {},
     "output_type": "execute_result"
    }
   ],
   "source": [
    "tree.right.key"
   ]
  },
  {
   "cell_type": "markdown",
   "id": "criminal-leeds",
   "metadata": {
    "id": "criminal-leeds"
   },
   "source": [
    "Going forward, we'll use the term \"tree\" to refer to the root node. The term \"node\" can refer to any node in a tree, not necessarily the root.\n",
    "\n",
    "**Exercise:** Create the following binary tree using the `TreeNode` class defined above.\n",
    "\n",
    "<img src=\"https://i.imgur.com/d7djJAf.png\" width=\"540\">"
   ]
  },
  {
   "cell_type": "code",
   "execution_count": 52,
   "id": "ongoing-assignment",
   "metadata": {
    "executionInfo": {
     "elapsed": 809,
     "status": "ok",
     "timestamp": 1683304689157,
     "user": {
      "displayName": "Joseph Olayanju",
      "userId": "07239701715105728325"
     },
     "user_tz": -60
    },
    "id": "ongoing-assignment"
   },
   "outputs": [],
   "source": [
    "node0 = TreeNode(2)\n",
    "node1 = TreeNode(3)\n",
    "node2 = TreeNode(5)\n",
    "node3 = TreeNode(1)\n",
    "node4 = TreeNode(3)\n",
    "node5 = TreeNode(7)\n",
    "node6 = TreeNode(4)\n",
    "node7 = TreeNode(6)\n",
    "node8 = TreeNode(8)"
   ]
  },
  {
   "cell_type": "code",
   "execution_count": 53,
   "id": "headed-discovery",
   "metadata": {
    "colab": {
     "base_uri": "https://localhost:8080/"
    },
    "executionInfo": {
     "elapsed": 520,
     "status": "ok",
     "timestamp": 1683304693772,
     "user": {
      "displayName": "Joseph Olayanju",
      "userId": "07239701715105728325"
     },
     "user_tz": -60
    },
    "id": "headed-discovery",
    "outputId": "eb26303e-ffda-4b22-8167-1061aec1f4f6"
   },
   "outputs": [
    {
     "data": {
      "text/plain": [
       "1"
      ]
     },
     "execution_count": 53,
     "metadata": {},
     "output_type": "execute_result"
    }
   ],
   "source": [
    "node0.left = node1\n",
    "node0.right = node2\n",
    "node1.left = node3\n",
    "node1.right = None\n",
    "node2.left = node4\n",
    "node2.right = node5\n",
    "node3.left = None\n",
    "node3.right = None\n",
    "node4.left = None\n",
    "node4.right = node6\n",
    "node5.left = node7\n",
    "node5.right = node8\n",
    "node6.left = None\n",
    "node6.right = None\n",
    "node7.left = None\n",
    "node7.right = None\n",
    "node8.left = None\n",
    "node8.right = None\n",
    "tree = node0\n",
    "tree.left.left.key"
   ]
  },
  {
   "cell_type": "markdown",
   "id": "crucial-bacon",
   "metadata": {
    "id": "crucial-bacon"
   },
   "source": [
    "It's a bit inconvenient to create a tree by manually connecting all the nodes. Let's write a helper function which can convert a tuple with the structure `( left_subtree, key, right_subtree)` (where `left_subtree` and `right_subtree` are themselves tuples) into binary tree.\n",
    "\n",
    "Here's an tuple representing the tree shown above:"
   ]
  },
  {
   "cell_type": "code",
   "execution_count": 54,
   "id": "rising-zealand",
   "metadata": {
    "executionInfo": {
     "elapsed": 745,
     "status": "ok",
     "timestamp": 1683304714147,
     "user": {
      "displayName": "Joseph Olayanju",
      "userId": "07239701715105728325"
     },
     "user_tz": -60
    },
    "id": "rising-zealand"
   },
   "outputs": [],
   "source": [
    "tree_tuple = ((1,3,None), 2, ((None, 3, 4), 5, (6, 7, 8)))"
   ]
  },
  {
   "cell_type": "code",
   "execution_count": 55,
   "id": "defined-string",
   "metadata": {
    "code_folding": [],
    "executionInfo": {
     "elapsed": 575,
     "status": "ok",
     "timestamp": 1683304718224,
     "user": {
      "displayName": "Joseph Olayanju",
      "userId": "07239701715105728325"
     },
     "user_tz": -60
    },
    "id": "defined-string"
   },
   "outputs": [],
   "source": [
    "def parse_tuple(data):\n",
    "#     print(data)\n",
    "    if isinstance(data, tuple) and len(data) == 3:\n",
    "        node = TreeNode(data[1])\n",
    "        print(node)\n",
    "        node.left = parse_tuple(data[0])\n",
    "        print(node.left)\n",
    "        node.right = parse_tuple(data[2])\n",
    "        print(node.right)\n",
    "    elif data is None:\n",
    "        node = None\n",
    "    else:\n",
    "        node = TreeNode(data)\n",
    "    return node"
   ]
  },
  {
   "cell_type": "markdown",
   "id": "final-cambridge",
   "metadata": {
    "id": "final-cambridge"
   },
   "source": [
    "The `parse_tuple` creates a new root node when a tuple of size 3 as an the input. Interestingly, to create the left and right subtrees for the node, the `parse_tuple` function invokes itself. This technique is called _recursion_. The chain of _recursive_ calls ends when `parse_tuple` encounters a number or `None` as input. We'll use recursion extensively throughout this tutorial.\n",
    "\n",
    "\n",
    "**Exercise:** Add print statements inside `parse_tuple` to display the arguments for each call of the function. Does the sequence of recursive calls make sense to you?\n"
   ]
  },
  {
   "cell_type": "markdown",
   "id": "different-surprise",
   "metadata": {
    "id": "different-surprise"
   },
   "source": [
    "Let's try out `parse_tuple` with the tuple define earlier."
   ]
  },
  {
   "cell_type": "code",
   "execution_count": 56,
   "id": "heavy-consent",
   "metadata": {
    "colab": {
     "base_uri": "https://localhost:8080/"
    },
    "executionInfo": {
     "elapsed": 552,
     "status": "ok",
     "timestamp": 1683304724147,
     "user": {
      "displayName": "Joseph Olayanju",
      "userId": "07239701715105728325"
     },
     "user_tz": -60
    },
    "id": "heavy-consent",
    "outputId": "6c41a7df-e6d3-428a-d78b-9f03f8f7c099"
   },
   "outputs": [
    {
     "name": "stdout",
     "output_type": "stream",
     "text": [
      "<__main__.TreeNode object at 0x7f279f2f9ab0>\n",
      "<__main__.TreeNode object at 0x7f279f2f9d50>\n",
      "<__main__.TreeNode object at 0x7f279f2f8dc0>\n",
      "None\n",
      "<__main__.TreeNode object at 0x7f279f2f9d50>\n",
      "<__main__.TreeNode object at 0x7f279f2f97e0>\n",
      "<__main__.TreeNode object at 0x7f279f2fa7d0>\n",
      "None\n",
      "<__main__.TreeNode object at 0x7f279f2f9480>\n",
      "<__main__.TreeNode object at 0x7f279f2fa7d0>\n",
      "<__main__.TreeNode object at 0x7f279f2fa200>\n",
      "<__main__.TreeNode object at 0x7f279f2fa110>\n",
      "<__main__.TreeNode object at 0x7f279f2f99f0>\n",
      "<__main__.TreeNode object at 0x7f279f2fa200>\n",
      "<__main__.TreeNode object at 0x7f279f2f97e0>\n"
     ]
    }
   ],
   "source": [
    "tree2 = parse_tuple(((1,3,None), 2, ((None, 3, 4), 5, (6, 7, 8))))"
   ]
  },
  {
   "cell_type": "code",
   "execution_count": 57,
   "id": "received-click",
   "metadata": {
    "colab": {
     "base_uri": "https://localhost:8080/"
    },
    "executionInfo": {
     "elapsed": 569,
     "status": "ok",
     "timestamp": 1683304728925,
     "user": {
      "displayName": "Joseph Olayanju",
      "userId": "07239701715105728325"
     },
     "user_tz": -60
    },
    "id": "received-click",
    "outputId": "319cf1e4-6f93-4585-c9df-7eeec7e0fe10"
   },
   "outputs": [
    {
     "data": {
      "text/plain": [
       "<__main__.TreeNode at 0x7f279f2f9ab0>"
      ]
     },
     "execution_count": 57,
     "metadata": {},
     "output_type": "execute_result"
    }
   ],
   "source": [
    "tree2"
   ]
  },
  {
   "cell_type": "markdown",
   "id": "urban-result",
   "metadata": {
    "id": "urban-result"
   },
   "source": [
    "We can now examine the tree to verify that it was constructed as expected.\n",
    "\n",
    "<img src=\"https://i.imgur.com/d7djJAf.png\" width=\"540\">"
   ]
  },
  {
   "cell_type": "code",
   "execution_count": 58,
   "id": "precious-hammer",
   "metadata": {
    "colab": {
     "base_uri": "https://localhost:8080/"
    },
    "executionInfo": {
     "elapsed": 828,
     "status": "ok",
     "timestamp": 1683304734492,
     "user": {
      "displayName": "Joseph Olayanju",
      "userId": "07239701715105728325"
     },
     "user_tz": -60
    },
    "id": "precious-hammer",
    "outputId": "576c0d76-ad30-4617-df74-ff930a1e1f4c"
   },
   "outputs": [
    {
     "data": {
      "text/plain": [
       "2"
      ]
     },
     "execution_count": 58,
     "metadata": {},
     "output_type": "execute_result"
    }
   ],
   "source": [
    "tree2.key"
   ]
  },
  {
   "cell_type": "code",
   "execution_count": 59,
   "id": "finished-moses",
   "metadata": {
    "colab": {
     "base_uri": "https://localhost:8080/"
    },
    "executionInfo": {
     "elapsed": 15,
     "status": "ok",
     "timestamp": 1683304737407,
     "user": {
      "displayName": "Joseph Olayanju",
      "userId": "07239701715105728325"
     },
     "user_tz": -60
    },
    "id": "finished-moses",
    "outputId": "75417f2e-19e3-4df5-bf7f-def00ae77502"
   },
   "outputs": [
    {
     "data": {
      "text/plain": [
       "(3, 5)"
      ]
     },
     "execution_count": 59,
     "metadata": {},
     "output_type": "execute_result"
    }
   ],
   "source": [
    "tree2.left.key, tree2.right.key"
   ]
  },
  {
   "cell_type": "code",
   "execution_count": 60,
   "id": "regulated-monthly",
   "metadata": {
    "colab": {
     "base_uri": "https://localhost:8080/"
    },
    "executionInfo": {
     "elapsed": 887,
     "status": "ok",
     "timestamp": 1683304740708,
     "user": {
      "displayName": "Joseph Olayanju",
      "userId": "07239701715105728325"
     },
     "user_tz": -60
    },
    "id": "regulated-monthly",
    "outputId": "39719bfb-ce54-458d-da57-af4d8b293d27"
   },
   "outputs": [
    {
     "data": {
      "text/plain": [
       "(1, None, 3, 7)"
      ]
     },
     "execution_count": 60,
     "metadata": {},
     "output_type": "execute_result"
    }
   ],
   "source": [
    "tree2.left.left.key, tree2.left.right, tree2.right.left.key, tree2.right.right.key"
   ]
  },
  {
   "cell_type": "code",
   "execution_count": 61,
   "id": "dedicated-warning",
   "metadata": {
    "colab": {
     "base_uri": "https://localhost:8080/"
    },
    "executionInfo": {
     "elapsed": 11,
     "status": "ok",
     "timestamp": 1683304743491,
     "user": {
      "displayName": "Joseph Olayanju",
      "userId": "07239701715105728325"
     },
     "user_tz": -60
    },
    "id": "dedicated-warning",
    "outputId": "a88be94e-574d-4a54-860a-65e09d0b7074",
    "scrolled": true
   },
   "outputs": [
    {
     "data": {
      "text/plain": [
       "(4, 6, 8)"
      ]
     },
     "execution_count": 61,
     "metadata": {},
     "output_type": "execute_result"
    }
   ],
   "source": [
    "tree2.right.left.right.key, tree2.right.right.left.key, tree2.right.right.right.key"
   ]
  },
  {
   "cell_type": "markdown",
   "id": "parallel-healthcare",
   "metadata": {
    "id": "parallel-healthcare"
   },
   "source": [
    "**Exercise:** Define a function `tree_to_tuple` that converts a binary tree into a tuple representing the same tree. E.g. `tree_to_tuple` converts the tree created above to the tuple `((1, 3, None), 2, ((None, 3, 4), 5, (6, 7, 8)))`. *Hint*: Use recursion."
   ]
  },
  {
   "cell_type": "code",
   "execution_count": 73,
   "id": "unsigned-gabriel",
   "metadata": {
    "executionInfo": {
     "elapsed": 1152,
     "status": "ok",
     "timestamp": 1683305135103,
     "user": {
      "displayName": "Joseph Olayanju",
      "userId": "07239701715105728325"
     },
     "user_tz": -60
    },
    "id": "unsigned-gabriel"
   },
   "outputs": [],
   "source": [
    "def tree_to_tuple(node):\n",
    "    if node is None:\n",
    "        return None\n",
    "    return (tree_to_tuple(node.left), node.key, tree_to_tuple(node.right))\n"
   ]
  },
  {
   "cell_type": "code",
   "execution_count": 74,
   "id": "revolutionary-cache",
   "metadata": {
    "colab": {
     "base_uri": "https://localhost:8080/"
    },
    "executionInfo": {
     "elapsed": 14,
     "status": "ok",
     "timestamp": 1683305137418,
     "user": {
      "displayName": "Joseph Olayanju",
      "userId": "07239701715105728325"
     },
     "user_tz": -60
    },
    "id": "revolutionary-cache",
    "outputId": "3c48a2a6-b59d-4f51-f3e4-404ffe29c838"
   },
   "outputs": [
    {
     "data": {
      "text/plain": [
       "(((None, 1, None), 3, None),\n",
       " 2,\n",
       " ((None, 3, (None, 4, None)), 5, ((None, 6, None), 7, (None, 8, None))))"
      ]
     },
     "execution_count": 74,
     "metadata": {},
     "output_type": "execute_result"
    }
   ],
   "source": [
    "tree_tuple = tree_to_tuple(tree)\n",
    "tree_tuple"
   ]
  },
  {
   "cell_type": "markdown",
   "id": "comparative-civilization",
   "metadata": {
    "id": "comparative-civilization"
   },
   "source": [
    "Let's create another helper function to display all the keys in a tree-like structure for easier visualization."
   ]
  },
  {
   "cell_type": "code",
   "execution_count": 75,
   "id": "advance-bunch",
   "metadata": {
    "executionInfo": {
     "elapsed": 702,
     "status": "ok",
     "timestamp": 1683305161116,
     "user": {
      "displayName": "Joseph Olayanju",
      "userId": "07239701715105728325"
     },
     "user_tz": -60
    },
    "id": "advance-bunch"
   },
   "outputs": [],
   "source": [
    "def display_keys(node, space='\\t', level=0):\n",
    "    print(node.key if node else None, level)\n",
    "    \n",
    "    # If the node is empty\n",
    "    if node is None:\n",
    "        print(space*level + '∅')\n",
    "        return   \n",
    "    \n",
    "    # If the node is a leaf \n",
    "    if node.left is None and node.right is None:\n",
    "        print(space*level + str(node.key))\n",
    "        return\n",
    "    \n",
    "    # If the node has children\n",
    "    display_keys(node.right, space, level+1)\n",
    "    print(space*level + str(node.key))\n",
    "    display_keys(node.left,space, level+1)    "
   ]
  },
  {
   "cell_type": "markdown",
   "id": "international-rider",
   "metadata": {
    "id": "international-rider"
   },
   "source": [
    "Once again, the `display_keys` function users recursion to print all the keys of the left and right subtree with proper indentation.\n",
    "\n",
    "**Exercise:** Add print statements inside `display_keys` to display the arguments for each call of the function. Does the sequence of recursive calls make sense to you?\n",
    "\n",
    "Let's try using the function."
   ]
  },
  {
   "cell_type": "code",
   "execution_count": 76,
   "id": "rental-junction",
   "metadata": {
    "colab": {
     "base_uri": "https://localhost:8080/"
    },
    "executionInfo": {
     "elapsed": 1573,
     "status": "ok",
     "timestamp": 1683305170992,
     "user": {
      "displayName": "Joseph Olayanju",
      "userId": "07239701715105728325"
     },
     "user_tz": -60
    },
    "id": "rental-junction",
    "outputId": "d50b1d64-1d62-4ecf-a264-d6ac36e50ea5"
   },
   "outputs": [
    {
     "name": "stdout",
     "output_type": "stream",
     "text": [
      "2 0\n",
      "5 1\n",
      "7 2\n",
      "8 3\n",
      "      8\n",
      "    7\n",
      "6 3\n",
      "      6\n",
      "  5\n",
      "3 2\n",
      "4 3\n",
      "      4\n",
      "    3\n",
      "None 3\n",
      "      ∅\n",
      "2\n",
      "3 1\n",
      "None 2\n",
      "    ∅\n",
      "  3\n",
      "1 2\n",
      "    1\n"
     ]
    }
   ],
   "source": [
    "display_keys(tree2, '  ')"
   ]
  },
  {
   "cell_type": "markdown",
   "id": "continuing-modification",
   "metadata": {
    "id": "continuing-modification"
   },
   "source": [
    "We can now visualize the tree that was just created (albeit rotated by 90 degrees). It's easy to see that it matches the expected structure.\n",
    "\n",
    "<img src=\"https://i.imgur.com/d7djJAf.png\" width=\"540\">\n",
    "\n",
    "**Exercise**: Create some more trees and visualize them using `display_keys`. You can use [excalidraw.com](https://excalidraw.com) as a digital whiteboard to create trees."
   ]
  },
  {
   "cell_type": "code",
   "execution_count": 77,
   "id": "ethical-hazard",
   "metadata": {
    "colab": {
     "base_uri": "https://localhost:8080/"
    },
    "executionInfo": {
     "elapsed": 585,
     "status": "ok",
     "timestamp": 1683305180696,
     "user": {
      "displayName": "Joseph Olayanju",
      "userId": "07239701715105728325"
     },
     "user_tz": -60
    },
    "id": "ethical-hazard",
    "outputId": "94e192fc-d7b7-40a7-fc7b-3b89490b9e74"
   },
   "outputs": [
    {
     "name": "stdout",
     "output_type": "stream",
     "text": [
      "<__main__.TreeNode object at 0x7f279f2fb610>\n",
      "<__main__.TreeNode object at 0x7f279f2fa9b0>\n",
      "<__main__.TreeNode object at 0x7f279f2f9ff0>\n",
      "<__main__.TreeNode object at 0x7f279f2fbb80>\n",
      "<__main__.TreeNode object at 0x7f279f2fa9b0>\n",
      "<__main__.TreeNode object at 0x7f279f2f8b20>\n",
      "<__main__.TreeNode object at 0x7f279f2fb4c0>\n",
      "<__main__.TreeNode object at 0x7f279f2fb2e0>\n",
      "<__main__.TreeNode object at 0x7f279f2fb310>\n",
      "<__main__.TreeNode object at 0x7f279f2fb4c0>\n",
      "<__main__.TreeNode object at 0x7f279f2faad0>\n",
      "<__main__.TreeNode object at 0x7f279f2f9420>\n",
      "<__main__.TreeNode object at 0x7f279f2fb940>\n",
      "<__main__.TreeNode object at 0x7f279f2faad0>\n",
      "<__main__.TreeNode object at 0x7f279f2f8b20>\n"
     ]
    }
   ],
   "source": [
    "tree3 = parse_tuple(((1,3,2), 4, ((3, 6, 4), 5, (4, 11, 7))))\n"
   ]
  },
  {
   "cell_type": "code",
   "execution_count": 78,
   "id": "pleased-hindu",
   "metadata": {
    "colab": {
     "base_uri": "https://localhost:8080/"
    },
    "executionInfo": {
     "elapsed": 875,
     "status": "ok",
     "timestamp": 1683305198239,
     "user": {
      "displayName": "Joseph Olayanju",
      "userId": "07239701715105728325"
     },
     "user_tz": -60
    },
    "id": "pleased-hindu",
    "outputId": "812c4390-1a80-4770-9e6e-3a3b52371b5c"
   },
   "outputs": [
    {
     "name": "stdout",
     "output_type": "stream",
     "text": [
      "4 0\n",
      "5 1\n",
      "11 2\n",
      "7 3\n",
      "            7\n",
      "        11\n",
      "4 3\n",
      "            4\n",
      "    5\n",
      "6 2\n",
      "4 3\n",
      "            4\n",
      "        6\n",
      "3 3\n",
      "            3\n",
      "4\n",
      "3 1\n",
      "2 2\n",
      "        2\n",
      "    3\n",
      "1 2\n",
      "        1\n"
     ]
    }
   ],
   "source": [
    "display_keys(tree3, '    ')"
   ]
  },
  {
   "cell_type": "markdown",
   "id": "rocky-collar",
   "metadata": {
    "id": "rocky-collar"
   },
   "source": [
    "## Traversing a Binary Tree\n",
    "\n",
    "The following questions are frequently asked in coding interviews and assessments:\n",
    "\n",
    "> **QUESTION 3**: Write a function to perform the _inorder_ traversal of a binary tree.\n",
    "\n",
    "> **QUESTION 4**: Write a function to perform the _preorder_ traversal of a binary tree.\n",
    "\n",
    "> **QUESTION 5**: Write a function to perform the _postorder_ traversal of a binary tree.\n",
    "\n",
    "A *traversal* refers to the process of visiting each node of a tree exactly once. _Visiting a node_ generally refers to adding the node's key to a list. There are three ways to traverse a binary tree and return the list of visited keys: \n",
    "\n",
    "### Inorder traversal\n",
    "\n",
    "\n",
    "\n",
    "  1. Traverse the left subtree recursively inorder.\n",
    "  2. Traverse the current node.\n",
    "  3. Traverse the right subtree recursively inorder.\n",
    "\n",
    "\n",
    "<img src=\"https://i.imgur.com/KCXpMA9.png\" width=\"540\">\n",
    "\n",
    "\n",
    "### Preorder traversal\n",
    "\n",
    "  1. Traverse the current node.\n",
    "  2. Traverse the left subtree recursively preorder.\n",
    "  3. Traverse the right subtree recursively preorder.\n",
    "  \n",
    "<img src=\"https://i.imgur.com/2xrMUWP.png\" width=\"540\">\n",
    "\n",
    "\n",
    "Can you guess how **postorder** traversal works??\n",
    "\n",
    "\n",
    "Here's an implementation of inorder traversal of a binary tree."
   ]
  },
  {
   "cell_type": "code",
   "execution_count": 80,
   "id": "vanilla-capability",
   "metadata": {
    "executionInfo": {
     "elapsed": 810,
     "status": "ok",
     "timestamp": 1683305226290,
     "user": {
      "displayName": "Joseph Olayanju",
      "userId": "07239701715105728325"
     },
     "user_tz": -60
    },
    "id": "vanilla-capability"
   },
   "outputs": [],
   "source": [
    "def traverse_in_order(node):\n",
    "    if node is None: \n",
    "        return []\n",
    "    return(traverse_in_order(node.left) + \n",
    "           [node.key] + \n",
    "           traverse_in_order(node.right))"
   ]
  },
  {
   "cell_type": "markdown",
   "id": "chicken-benchmark",
   "metadata": {
    "id": "chicken-benchmark"
   },
   "source": [
    "Let's try it out with this tree:\n",
    "\n",
    "<img src=\"https://i.imgur.com/d7djJAf.png\" width=\"540\">"
   ]
  },
  {
   "cell_type": "code",
   "execution_count": 81,
   "id": "natural-nashville",
   "metadata": {
    "colab": {
     "base_uri": "https://localhost:8080/"
    },
    "executionInfo": {
     "elapsed": 1447,
     "status": "ok",
     "timestamp": 1683305234612,
     "user": {
      "displayName": "Joseph Olayanju",
      "userId": "07239701715105728325"
     },
     "user_tz": -60
    },
    "id": "natural-nashville",
    "outputId": "ee8b36b7-32ae-4569-d922-33b74927586d"
   },
   "outputs": [
    {
     "name": "stdout",
     "output_type": "stream",
     "text": [
      "<__main__.TreeNode object at 0x7f279f2fae90>\n",
      "<__main__.TreeNode object at 0x7f279f2fbf70>\n",
      "<__main__.TreeNode object at 0x7f279f2fa410>\n",
      "None\n",
      "<__main__.TreeNode object at 0x7f279f2fbf70>\n",
      "<__main__.TreeNode object at 0x7f279f2fb3d0>\n",
      "<__main__.TreeNode object at 0x7f279f2fb100>\n",
      "None\n",
      "<__main__.TreeNode object at 0x7f279f2f8d90>\n",
      "<__main__.TreeNode object at 0x7f279f2fb100>\n",
      "<__main__.TreeNode object at 0x7f279f2fadd0>\n",
      "<__main__.TreeNode object at 0x7f279f2f8e80>\n",
      "<__main__.TreeNode object at 0x7f279f2fbbe0>\n",
      "<__main__.TreeNode object at 0x7f279f2fadd0>\n",
      "<__main__.TreeNode object at 0x7f279f2fb3d0>\n"
     ]
    }
   ],
   "source": [
    "tree = parse_tuple(((1,3,None), 2, ((None, 3, 4), 5, (6, 7, 8))))"
   ]
  },
  {
   "cell_type": "code",
   "execution_count": 82,
   "id": "greatest-return",
   "metadata": {
    "colab": {
     "base_uri": "https://localhost:8080/"
    },
    "executionInfo": {
     "elapsed": 494,
     "status": "ok",
     "timestamp": 1683305248351,
     "user": {
      "displayName": "Joseph Olayanju",
      "userId": "07239701715105728325"
     },
     "user_tz": -60
    },
    "id": "greatest-return",
    "outputId": "c461543a-72a7-4da9-aefd-ca8203f59547"
   },
   "outputs": [
    {
     "name": "stdout",
     "output_type": "stream",
     "text": [
      "2 0\n",
      "5 1\n",
      "7 2\n",
      "8 3\n",
      "      8\n",
      "    7\n",
      "6 3\n",
      "      6\n",
      "  5\n",
      "3 2\n",
      "4 3\n",
      "      4\n",
      "    3\n",
      "None 3\n",
      "      ∅\n",
      "2\n",
      "3 1\n",
      "None 2\n",
      "    ∅\n",
      "  3\n",
      "1 2\n",
      "    1\n"
     ]
    }
   ],
   "source": [
    "display_keys(tree, '  ')"
   ]
  },
  {
   "cell_type": "code",
   "execution_count": 83,
   "id": "continent-twins",
   "metadata": {
    "colab": {
     "base_uri": "https://localhost:8080/"
    },
    "executionInfo": {
     "elapsed": 1394,
     "status": "ok",
     "timestamp": 1683305257758,
     "user": {
      "displayName": "Joseph Olayanju",
      "userId": "07239701715105728325"
     },
     "user_tz": -60
    },
    "id": "continent-twins",
    "outputId": "48bf3486-6e91-4a5d-f7c9-5263ac3389a7"
   },
   "outputs": [
    {
     "data": {
      "text/plain": [
       "[1, 3, 2, 3, 4, 5, 6, 7, 8]"
      ]
     },
     "execution_count": 83,
     "metadata": {},
     "output_type": "execute_result"
    }
   ],
   "source": [
    "traverse_in_order(tree)"
   ]
  },
  {
   "cell_type": "markdown",
   "id": "dirty-street",
   "metadata": {
    "id": "dirty-street"
   },
   "source": [
    "\n",
    "**Exercise:** Implement functions for preorder and postorder traversal of a binary tree.\n",
    "\n",
    "Test your implementations by making submissions to the following problems:\n",
    "\n",
    "* https://leetcode.com/problems/binary-tree-inorder-traversal/\n",
    "* https://leetcode.com/problems/binary-tree-preorder-traversal/\n",
    "* https://leetcode.com/problems/binary-tree-postorder-traversal/"
   ]
  },
  {
   "cell_type": "code",
   "execution_count": 84,
   "id": "burning-breathing",
   "metadata": {
    "colab": {
     "base_uri": "https://localhost:8080/"
    },
    "executionInfo": {
     "elapsed": 14,
     "status": "ok",
     "timestamp": 1683305261186,
     "user": {
      "displayName": "Joseph Olayanju",
      "userId": "07239701715105728325"
     },
     "user_tz": -60
    },
    "id": "burning-breathing",
    "outputId": "ad9eff85-57bb-415a-bb55-3a48bff93d43"
   },
   "outputs": [
    {
     "name": "stdout",
     "output_type": "stream",
     "text": [
      "[jovian] Detected Colab notebook...\u001b[0m\n",
      "[jovian] jovian.commit() is no longer required on Google Colab. If you ran this notebook from Jovian, \n",
      "then just save this file in Colab using Ctrl+S/Cmd+S and it will be updated on Jovian. \n",
      "Also, you can also delete this cell, it's no longer necessary.\u001b[0m\n"
     ]
    }
   ],
   "source": [
    "jovian.commit()"
   ]
  },
  {
   "cell_type": "markdown",
   "id": "vietnamese-difficulty",
   "metadata": {
    "id": "vietnamese-difficulty"
   },
   "source": [
    "## Height and Size of a Binary Tree\n",
    "\n",
    "\n",
    "> **QUESTION 6**: Write a function to calculate the height/depth of a binary tree\n",
    "\n",
    "> **QUESTION 7**: Write a function to count the number of nodes in a binary tree\n",
    "\n",
    "\n",
    "The _height/depth_ of a binary tree is defined as the length of the longest path from its root node to a leaf. It can be computed recursively, as follows:\n"
   ]
  },
  {
   "cell_type": "code",
   "execution_count": 85,
   "id": "occasional-supplier",
   "metadata": {
    "executionInfo": {
     "elapsed": 564,
     "status": "ok",
     "timestamp": 1683305285976,
     "user": {
      "displayName": "Joseph Olayanju",
      "userId": "07239701715105728325"
     },
     "user_tz": -60
    },
    "id": "occasional-supplier"
   },
   "outputs": [],
   "source": [
    "def tree_height(node):\n",
    "    if node is None:\n",
    "        return 0\n",
    "    return 1 + max(tree_height(node.left), tree_height(node.right))"
   ]
  },
  {
   "cell_type": "markdown",
   "id": "potential-jefferson",
   "metadata": {
    "id": "potential-jefferson"
   },
   "source": [
    "Let's compute the height of this tree:\n",
    "\n",
    "<img src=\"https://i.imgur.com/d7djJAf.png\" width=\"540\">"
   ]
  },
  {
   "cell_type": "code",
   "execution_count": 86,
   "id": "integrated-experiment",
   "metadata": {
    "colab": {
     "base_uri": "https://localhost:8080/"
    },
    "executionInfo": {
     "elapsed": 715,
     "status": "ok",
     "timestamp": 1683305292914,
     "user": {
      "displayName": "Joseph Olayanju",
      "userId": "07239701715105728325"
     },
     "user_tz": -60
    },
    "id": "integrated-experiment",
    "outputId": "789e8454-e697-43fb-b5cd-53da3282eab7"
   },
   "outputs": [
    {
     "data": {
      "text/plain": [
       "4"
      ]
     },
     "execution_count": 86,
     "metadata": {},
     "output_type": "execute_result"
    }
   ],
   "source": [
    "tree_height(tree)"
   ]
  },
  {
   "cell_type": "markdown",
   "id": "collect-official",
   "metadata": {
    "id": "collect-official"
   },
   "source": [
    "Here's a function to count the number of nodes in a binary tree."
   ]
  },
  {
   "cell_type": "code",
   "execution_count": 87,
   "id": "presidential-development",
   "metadata": {
    "executionInfo": {
     "elapsed": 11,
     "status": "ok",
     "timestamp": 1683305295378,
     "user": {
      "displayName": "Joseph Olayanju",
      "userId": "07239701715105728325"
     },
     "user_tz": -60
    },
    "id": "presidential-development"
   },
   "outputs": [],
   "source": [
    "def tree_size(node):\n",
    "    if node is None:\n",
    "        return 0\n",
    "    return 1 + tree_size(node.left) + tree_size(node.right)"
   ]
  },
  {
   "cell_type": "code",
   "execution_count": 88,
   "id": "significant-cheat",
   "metadata": {
    "colab": {
     "base_uri": "https://localhost:8080/"
    },
    "executionInfo": {
     "elapsed": 1033,
     "status": "ok",
     "timestamp": 1683305308077,
     "user": {
      "displayName": "Joseph Olayanju",
      "userId": "07239701715105728325"
     },
     "user_tz": -60
    },
    "id": "significant-cheat",
    "outputId": "ee36d9c7-22ce-4be3-8f6c-8672e41a8418"
   },
   "outputs": [
    {
     "data": {
      "text/plain": [
       "9"
      ]
     },
     "execution_count": 88,
     "metadata": {},
     "output_type": "execute_result"
    }
   ],
   "source": [
    "\n",
    "tree_size(tree)"
   ]
  },
  {
   "cell_type": "markdown",
   "id": "substantial-electricity",
   "metadata": {
    "id": "substantial-electricity"
   },
   "source": [
    "**Exercise:** Try solving these problems relating to path lengths in a binary tree:\n",
    "\n",
    "* https://leetcode.com/problems/maximum-depth-of-binary-tree/\n",
    "* https://leetcode.com/problems/minimum-depth-of-binary-tree/\n",
    "* https://leetcode.com/problems/diameter-of-binary-tree/"
   ]
  },
  {
   "cell_type": "markdown",
   "id": "painted-auditor",
   "metadata": {
    "id": "painted-auditor"
   },
   "source": [
    "As a final step, let's compile all the functions we've written so far as methods withing the `TreeNode` class itself. Encapsulation of data and functionality within the same class is a good programming practice."
   ]
  },
  {
   "cell_type": "code",
   "execution_count": 89,
   "id": "secret-macintosh",
   "metadata": {
    "executionInfo": {
     "elapsed": 9,
     "status": "ok",
     "timestamp": 1683305315527,
     "user": {
      "displayName": "Joseph Olayanju",
      "userId": "07239701715105728325"
     },
     "user_tz": -60
    },
    "id": "secret-macintosh"
   },
   "outputs": [],
   "source": [
    "class TreeNode():\n",
    "    def __init__(self, key):\n",
    "        self.key, self.left, self.right = key, None, None\n",
    "    \n",
    "    def height(self):\n",
    "        if self is None:\n",
    "            return 0\n",
    "        return 1 + max(TreeNode.height(self.left), TreeNode.height(self.right))\n",
    "    \n",
    "    def size(self):\n",
    "        if self is None:\n",
    "            return 0\n",
    "        return 1 + TreeNode.size(self.left) + TreeNode.size(self.right)\n",
    "\n",
    "    def traverse_in_order(self):\n",
    "        if self is None: \n",
    "            return []\n",
    "        return (TreeNode.traverse_in_order(self.left) + \n",
    "                [self.key] + \n",
    "                TreeNode.traverse_in_order(self.right))\n",
    "    \n",
    "    def display_keys(self, space='\\t', level=0):\n",
    "        # If the node is empty\n",
    "        if self is None:\n",
    "            print(space*level + '∅')\n",
    "            return   \n",
    "\n",
    "        # If the node is a leaf \n",
    "        if self.left is None and self.right is None:\n",
    "            print(space*level + str(self.key))\n",
    "            return\n",
    "\n",
    "        # If the node has children\n",
    "        display_keys(self.right, space, level+1)\n",
    "        print(space*level + str(self.key))\n",
    "        display_keys(self.left,space, level+1)    \n",
    "    \n",
    "    def to_tuple(self):\n",
    "        if self is None:\n",
    "            return None\n",
    "        if self.left is None and self.right is None:\n",
    "            return self.key\n",
    "        return TreeNode.to_tuple(self.left),  self.key, TreeNode.to_tuple(self.right)\n",
    "    \n",
    "    def __str__(self):\n",
    "        return \"BinaryTree <{}>\".format(self.to_tuple())\n",
    "    \n",
    "    def __repr__(self):\n",
    "        return \"BinaryTree <{}>\".format(self.to_tuple())\n",
    "    \n",
    "    @staticmethod    \n",
    "    def parse_tuple(data):\n",
    "        if data is None:\n",
    "            node = None\n",
    "        elif isinstance(data, tuple) and len(data) == 3:\n",
    "            node = TreeNode(data[1])\n",
    "            node.left = TreeNode.parse_tuple(data[0])\n",
    "            node.right = TreeNode.parse_tuple(data[2])\n",
    "        else:\n",
    "            node = TreeNode(data)\n",
    "        return node"
   ]
  },
  {
   "cell_type": "markdown",
   "id": "consolidated-language",
   "metadata": {
    "id": "consolidated-language"
   },
   "source": [
    "The class method invocations `TreeNode.height(node)` and `node.height()` are equivalent. Can you guess why we're using the former in the function definitions above? Hint: Track the recursive calls. Discuss on the forum: https://jovian.ai/forum/c/data-structures-and-algorithms-in-python/lesson-2/82\n",
    "\n",
    "Let's try out the various methods defined above for this tree:\n",
    "\n",
    "<img src=\"https://i.imgur.com/d7djJAf.png\" width=\"540\">"
   ]
  },
  {
   "cell_type": "code",
   "execution_count": 90,
   "id": "failing-chrome",
   "metadata": {
    "colab": {
     "base_uri": "https://localhost:8080/"
    },
    "executionInfo": {
     "elapsed": 1201,
     "status": "ok",
     "timestamp": 1683305327046,
     "user": {
      "displayName": "Joseph Olayanju",
      "userId": "07239701715105728325"
     },
     "user_tz": -60
    },
    "id": "failing-chrome",
    "outputId": "06183902-a616-4642-9f1c-ea104d26ad07"
   },
   "outputs": [
    {
     "data": {
      "text/plain": [
       "(((None, 1, None), 3, None),\n",
       " 2,\n",
       " ((None, 3, (None, 4, None)), 5, ((None, 6, None), 7, (None, 8, None))))"
      ]
     },
     "execution_count": 90,
     "metadata": {},
     "output_type": "execute_result"
    }
   ],
   "source": [
    "tree_tuple"
   ]
  },
  {
   "cell_type": "code",
   "execution_count": 91,
   "id": "extreme-filling",
   "metadata": {
    "executionInfo": {
     "elapsed": 581,
     "status": "ok",
     "timestamp": 1683305331798,
     "user": {
      "displayName": "Joseph Olayanju",
      "userId": "07239701715105728325"
     },
     "user_tz": -60
    },
    "id": "extreme-filling"
   },
   "outputs": [],
   "source": [
    "tree = TreeNode.parse_tuple(tree_tuple)"
   ]
  },
  {
   "cell_type": "code",
   "execution_count": 92,
   "id": "dynamic-satellite",
   "metadata": {
    "colab": {
     "base_uri": "https://localhost:8080/"
    },
    "executionInfo": {
     "elapsed": 52,
     "status": "ok",
     "timestamp": 1683305335972,
     "user": {
      "displayName": "Joseph Olayanju",
      "userId": "07239701715105728325"
     },
     "user_tz": -60
    },
    "id": "dynamic-satellite",
    "outputId": "201a2824-e01a-49b4-e41a-b17c4c6247c6"
   },
   "outputs": [
    {
     "data": {
      "text/plain": [
       "BinaryTree <((1, 3, None), 2, ((None, 3, 4), 5, (6, 7, 8)))>"
      ]
     },
     "execution_count": 92,
     "metadata": {},
     "output_type": "execute_result"
    }
   ],
   "source": [
    "tree"
   ]
  },
  {
   "cell_type": "code",
   "execution_count": 93,
   "id": "engaging-neutral",
   "metadata": {
    "colab": {
     "base_uri": "https://localhost:8080/"
    },
    "executionInfo": {
     "elapsed": 1014,
     "status": "ok",
     "timestamp": 1683305345681,
     "user": {
      "displayName": "Joseph Olayanju",
      "userId": "07239701715105728325"
     },
     "user_tz": -60
    },
    "id": "engaging-neutral",
    "outputId": "cf483695-174f-4b3a-9659-a77da0026060"
   },
   "outputs": [
    {
     "name": "stdout",
     "output_type": "stream",
     "text": [
      "5 1\n",
      "7 2\n",
      "8 3\n",
      "      8\n",
      "    7\n",
      "6 3\n",
      "      6\n",
      "  5\n",
      "3 2\n",
      "4 3\n",
      "      4\n",
      "    3\n",
      "None 3\n",
      "      ∅\n",
      "2\n",
      "3 1\n",
      "None 2\n",
      "    ∅\n",
      "  3\n",
      "1 2\n",
      "    1\n"
     ]
    }
   ],
   "source": [
    "tree.display_keys('  ')"
   ]
  },
  {
   "cell_type": "code",
   "execution_count": 94,
   "id": "signal-decimal",
   "metadata": {
    "colab": {
     "base_uri": "https://localhost:8080/"
    },
    "executionInfo": {
     "elapsed": 14,
     "status": "ok",
     "timestamp": 1683305352738,
     "user": {
      "displayName": "Joseph Olayanju",
      "userId": "07239701715105728325"
     },
     "user_tz": -60
    },
    "id": "signal-decimal",
    "outputId": "7fd36c21-c790-440f-857d-ded18880261a"
   },
   "outputs": [
    {
     "data": {
      "text/plain": [
       "4"
      ]
     },
     "execution_count": 94,
     "metadata": {},
     "output_type": "execute_result"
    }
   ],
   "source": [
    "tree.height()"
   ]
  },
  {
   "cell_type": "code",
   "execution_count": 95,
   "id": "chinese-swimming",
   "metadata": {
    "colab": {
     "base_uri": "https://localhost:8080/"
    },
    "executionInfo": {
     "elapsed": 48,
     "status": "ok",
     "timestamp": 1683305356652,
     "user": {
      "displayName": "Joseph Olayanju",
      "userId": "07239701715105728325"
     },
     "user_tz": -60
    },
    "id": "chinese-swimming",
    "outputId": "bcb32f12-a373-4d7b-ce44-cda3d3b01c0a"
   },
   "outputs": [
    {
     "data": {
      "text/plain": [
       "9"
      ]
     },
     "execution_count": 95,
     "metadata": {},
     "output_type": "execute_result"
    }
   ],
   "source": [
    "tree.size()"
   ]
  },
  {
   "cell_type": "code",
   "execution_count": 96,
   "id": "hearing-network",
   "metadata": {
    "colab": {
     "base_uri": "https://localhost:8080/"
    },
    "executionInfo": {
     "elapsed": 12,
     "status": "ok",
     "timestamp": 1683305359288,
     "user": {
      "displayName": "Joseph Olayanju",
      "userId": "07239701715105728325"
     },
     "user_tz": -60
    },
    "id": "hearing-network",
    "outputId": "132059d5-e631-490e-9276-e8d970041805"
   },
   "outputs": [
    {
     "data": {
      "text/plain": [
       "[1, 3, 2, 3, 4, 5, 6, 7, 8]"
      ]
     },
     "execution_count": 96,
     "metadata": {},
     "output_type": "execute_result"
    }
   ],
   "source": [
    "tree.traverse_in_order()"
   ]
  },
  {
   "cell_type": "code",
   "execution_count": 97,
   "id": "protected-vermont",
   "metadata": {
    "colab": {
     "base_uri": "https://localhost:8080/"
    },
    "executionInfo": {
     "elapsed": 9,
     "status": "ok",
     "timestamp": 1683305362954,
     "user": {
      "displayName": "Joseph Olayanju",
      "userId": "07239701715105728325"
     },
     "user_tz": -60
    },
    "id": "protected-vermont",
    "outputId": "92a3655e-1dd9-4b4a-dbbc-5048f0644cf5"
   },
   "outputs": [
    {
     "data": {
      "text/plain": [
       "((1, 3, None), 2, ((None, 3, 4), 5, (6, 7, 8)))"
      ]
     },
     "execution_count": 97,
     "metadata": {},
     "output_type": "execute_result"
    }
   ],
   "source": [
    "tree.to_tuple()"
   ]
  },
  {
   "cell_type": "markdown",
   "id": "secondary-potter",
   "metadata": {
    "id": "secondary-potter"
   },
   "source": [
    "**Exercise:** Create some more trees and try out the operations defined above. Add more operations to the `TreeNode` class."
   ]
  },
  {
   "cell_type": "code",
   "execution_count": 98,
   "id": "respiratory-invalid",
   "metadata": {
    "executionInfo": {
     "elapsed": 9,
     "status": "ok",
     "timestamp": 1683305377635,
     "user": {
      "displayName": "Joseph Olayanju",
      "userId": "07239701715105728325"
     },
     "user_tz": -60
    },
    "id": "respiratory-invalid"
   },
   "outputs": [],
   "source": [
    "tree_tuple_1 = ((1,3,2), 2, ((1, 3, 4), 5, (6, 7, 8)))\n",
    "tree_1 = TreeNode.parse_tuple(tree_tuple_1)"
   ]
  },
  {
   "cell_type": "code",
   "execution_count": 99,
   "id": "higher-table",
   "metadata": {
    "colab": {
     "base_uri": "https://localhost:8080/"
    },
    "executionInfo": {
     "elapsed": 53,
     "status": "ok",
     "timestamp": 1683305384154,
     "user": {
      "displayName": "Joseph Olayanju",
      "userId": "07239701715105728325"
     },
     "user_tz": -60
    },
    "id": "higher-table",
    "outputId": "bbd928a9-2b46-43a8-fced-998e0ecc22a6"
   },
   "outputs": [
    {
     "data": {
      "text/plain": [
       "11"
      ]
     },
     "execution_count": 99,
     "metadata": {},
     "output_type": "execute_result"
    }
   ],
   "source": [
    "tree_1.size()"
   ]
  },
  {
   "cell_type": "code",
   "execution_count": 101,
   "id": "turkish-memorabilia",
   "metadata": {
    "colab": {
     "base_uri": "https://localhost:8080/"
    },
    "executionInfo": {
     "elapsed": 13,
     "status": "ok",
     "timestamp": 1683305424102,
     "user": {
      "displayName": "Joseph Olayanju",
      "userId": "07239701715105728325"
     },
     "user_tz": -60
    },
    "id": "turkish-memorabilia",
    "outputId": "076f7114-88b5-490e-e3d7-75f0531e6e2f"
   },
   "outputs": [
    {
     "data": {
      "text/plain": [
       "[1, 3, 2, 2, 1, 3, 4, 5, 6, 7, 8]"
      ]
     },
     "execution_count": 101,
     "metadata": {},
     "output_type": "execute_result"
    }
   ],
   "source": [
    "tree_1.height()\n",
    "tree_1.traverse_in_order()"
   ]
  },
  {
   "cell_type": "markdown",
   "id": "dangerous-sweet",
   "metadata": {
    "id": "dangerous-sweet"
   },
   "source": [
    "## Binary Search Tree (BST)\n",
    "\n",
    "A binary search tree or BST is a binary tree that satisfies the following conditions:\n",
    "\n",
    "1. The left subtree of any node only contains nodes with keys less than the node's key\n",
    "2. The right subtree of any node only contains nodes with keys greater than the node's key\n",
    "\n",
    "It follows from the above conditions that every subtree of a binary search tree must also be a binary search tree.\n",
    "\n",
    "\n",
    "> **QUESTION 8**: Write a function to check if a binary tree is a binary search tree (BST).\n",
    "\n",
    "> **QUESTION 9**: Write a function to find the maximum key in a binary tree.\n",
    "\n",
    "> **QUESTION 10**: Write a function to find the minimum key in a binary tree.\n",
    "\n",
    "\n",
    "Here's a function that covers all of the above:"
   ]
  },
  {
   "cell_type": "code",
   "execution_count": 102,
   "id": "silver-credit",
   "metadata": {
    "executionInfo": {
     "elapsed": 9,
     "status": "ok",
     "timestamp": 1683305433005,
     "user": {
      "displayName": "Joseph Olayanju",
      "userId": "07239701715105728325"
     },
     "user_tz": -60
    },
    "id": "silver-credit"
   },
   "outputs": [],
   "source": [
    "def remove_none(nums):\n",
    "    return [x for x in nums if x is not None]\n",
    "\n",
    "def is_bst(node):\n",
    "    if node is None:\n",
    "        return True, None, None\n",
    "    \n",
    "    is_bst_l, min_l, max_l = is_bst(node.left)\n",
    "    is_bst_r, min_r, max_r = is_bst(node.right)\n",
    "    \n",
    "    is_bst_node = (is_bst_l and is_bst_r and \n",
    "              (max_l is None or node.key > max_l) and \n",
    "              (min_r is None or node.key < min_r))\n",
    "    \n",
    "    min_key = min(remove_none([min_l, node.key, min_r]))\n",
    "    max_key = max(remove_none([max_l, node.key, max_r]))\n",
    "    \n",
    "    # print(node.key, min_key, max_key, is_bst_node)\n",
    "        \n",
    "    return is_bst_node, min_key, max_key"
   ]
  },
  {
   "cell_type": "markdown",
   "id": "consistent-concentrate",
   "metadata": {
    "id": "consistent-concentrate"
   },
   "source": [
    "The following tree is not a BST (because a node with the key 3 appears in the left subtree of a node with the key 2):\n",
    "\n",
    "<img src=\"https://i.imgur.com/d7djJAf.png\" width=\"540\">\n",
    "\n",
    "Let's verify this using `is_bst`."
   ]
  },
  {
   "cell_type": "code",
   "execution_count": 103,
   "id": "dying-rates",
   "metadata": {
    "executionInfo": {
     "elapsed": 791,
     "status": "ok",
     "timestamp": 1683305461262,
     "user": {
      "displayName": "Joseph Olayanju",
      "userId": "07239701715105728325"
     },
     "user_tz": -60
    },
    "id": "dying-rates"
   },
   "outputs": [],
   "source": [
    "tree1 = TreeNode.parse_tuple(((1, 3, None), 2, ((None, 3, 4), 5, (6, 7, 8))))"
   ]
  },
  {
   "cell_type": "code",
   "execution_count": 104,
   "id": "innocent-triumph",
   "metadata": {
    "colab": {
     "base_uri": "https://localhost:8080/"
    },
    "executionInfo": {
     "elapsed": 54,
     "status": "ok",
     "timestamp": 1683305464788,
     "user": {
      "displayName": "Joseph Olayanju",
      "userId": "07239701715105728325"
     },
     "user_tz": -60
    },
    "id": "innocent-triumph",
    "outputId": "0d791432-f755-48ab-81c7-994c7567d698"
   },
   "outputs": [
    {
     "data": {
      "text/plain": [
       "(False, 1, 8)"
      ]
     },
     "execution_count": 104,
     "metadata": {},
     "output_type": "execute_result"
    }
   ],
   "source": [
    "is_bst(tree1)"
   ]
  },
  {
   "cell_type": "markdown",
   "id": "polish-offering",
   "metadata": {
    "id": "polish-offering"
   },
   "source": [
    "On the other hand, the following tree is a BST:\n",
    "\n",
    "<img src=\"https://i.imgur.com/JZeF9ix.png\" width=\"520\">\n",
    "\n",
    "Let's create this tree and verify that it is a BST. Note that the `TreeNode` class also supports using strings as keys, as strings support the comparison operators `<` and `>` too."
   ]
  },
  {
   "cell_type": "code",
   "execution_count": 105,
   "id": "about-kenya",
   "metadata": {
    "executionInfo": {
     "elapsed": 968,
     "status": "ok",
     "timestamp": 1683305472880,
     "user": {
      "displayName": "Joseph Olayanju",
      "userId": "07239701715105728325"
     },
     "user_tz": -60
    },
    "id": "about-kenya"
   },
   "outputs": [],
   "source": [
    "tree2 = TreeNode.parse_tuple((('aakash', 'biraj', 'hemanth')  , 'jadhesh', ('siddhant', 'sonaksh', 'vishal')))"
   ]
  },
  {
   "cell_type": "code",
   "execution_count": 106,
   "id": "german-volleyball",
   "metadata": {
    "colab": {
     "base_uri": "https://localhost:8080/"
    },
    "executionInfo": {
     "elapsed": 1110,
     "status": "ok",
     "timestamp": 1683305479925,
     "user": {
      "displayName": "Joseph Olayanju",
      "userId": "07239701715105728325"
     },
     "user_tz": -60
    },
    "id": "german-volleyball",
    "outputId": "56d184c2-811a-4150-ea56-f1c277042f0d"
   },
   "outputs": [
    {
     "name": "stdout",
     "output_type": "stream",
     "text": [
      "sonaksh 1\n",
      "vishal 2\n",
      "\t\tvishal\n",
      "\tsonaksh\n",
      "siddhant 2\n",
      "\t\tsiddhant\n",
      "jadhesh\n",
      "biraj 1\n",
      "hemanth 2\n",
      "\t\themanth\n",
      "\tbiraj\n",
      "aakash 2\n",
      "\t\taakash\n"
     ]
    },
    {
     "data": {
      "text/plain": [
       "(True, 'aakash', 'vishal')"
      ]
     },
     "execution_count": 106,
     "metadata": {},
     "output_type": "execute_result"
    }
   ],
   "source": [
    "tree2.display_keys()\n",
    "is_bst(tree2)"
   ]
  },
  {
   "cell_type": "markdown",
   "id": "strategic-incentive",
   "metadata": {
    "id": "strategic-incentive"
   },
   "source": [
    "**Exercise:** Test the `is_bst` function with some more examples using the empty cells below."
   ]
  },
  {
   "cell_type": "code",
   "execution_count": 107,
   "id": "frank-jonathan",
   "metadata": {
    "colab": {
     "base_uri": "https://localhost:8080/"
    },
    "executionInfo": {
     "elapsed": 613,
     "status": "ok",
     "timestamp": 1683305491364,
     "user": {
      "displayName": "Joseph Olayanju",
      "userId": "07239701715105728325"
     },
     "user_tz": -60
    },
    "id": "frank-jonathan",
    "outputId": "4b53c82c-e145-49a0-d365-67cc402188e9"
   },
   "outputs": [
    {
     "data": {
      "text/plain": [
       "(False, 1, 8)"
      ]
     },
     "execution_count": 107,
     "metadata": {},
     "output_type": "execute_result"
    }
   ],
   "source": [
    "is_bst(tree_1)"
   ]
  },
  {
   "cell_type": "code",
   "execution_count": 108,
   "id": "auburn-delaware",
   "metadata": {
    "colab": {
     "base_uri": "https://localhost:8080/"
    },
    "executionInfo": {
     "elapsed": 16,
     "status": "ok",
     "timestamp": 1683305493629,
     "user": {
      "displayName": "Joseph Olayanju",
      "userId": "07239701715105728325"
     },
     "user_tz": -60
    },
    "id": "auburn-delaware",
    "outputId": "60ce71af-e224-41fd-fdf9-ada6c1603a68"
   },
   "outputs": [
    {
     "data": {
      "text/plain": [
       "(False, 1, 11)"
      ]
     },
     "execution_count": 108,
     "metadata": {},
     "output_type": "execute_result"
    }
   ],
   "source": [
    "is_bst(tree3)"
   ]
  },
  {
   "cell_type": "markdown",
   "id": "adjustable-upper",
   "metadata": {
    "id": "adjustable-upper"
   },
   "source": [
    "## Storing Key-Value Pairs using BSTs\n",
    "\n",
    "Recall that we need to store user objects with each key in our BST. Let's define new class `BSTNode` to represent the nodes of of our tree. Apart from having properties `key`, `left` and `right`, we'll also store a `value` and pointer to the parent node (for easier upward traversal)."
   ]
  },
  {
   "cell_type": "code",
   "execution_count": 109,
   "id": "polish-maker",
   "metadata": {
    "executionInfo": {
     "elapsed": 816,
     "status": "ok",
     "timestamp": 1683305504673,
     "user": {
      "displayName": "Joseph Olayanju",
      "userId": "07239701715105728325"
     },
     "user_tz": -60
    },
    "id": "polish-maker"
   },
   "outputs": [],
   "source": [
    "class BSTNode():\n",
    "    def __init__(self, key, value=None):\n",
    "        self.key = key\n",
    "        self.value = value\n",
    "        self.left = None\n",
    "        self.right = None\n",
    "        self.parent = None"
   ]
  },
  {
   "cell_type": "markdown",
   "id": "literary-effect",
   "metadata": {
    "id": "literary-effect"
   },
   "source": [
    "Let's try to recreate this BST with usernames as keys and user objects as values:\n",
    "\n",
    "<img src=\"https://i.imgur.com/JZeF9ix.png\" width=\"520\">"
   ]
  },
  {
   "cell_type": "code",
   "execution_count": 111,
   "id": "theoretical-cleaner",
   "metadata": {
    "executionInfo": {
     "elapsed": 615,
     "status": "ok",
     "timestamp": 1683305560994,
     "user": {
      "displayName": "Joseph Olayanju",
      "userId": "07239701715105728325"
     },
     "user_tz": -60
    },
    "id": "theoretical-cleaner"
   },
   "outputs": [],
   "source": [
    "# Level 0\n",
    "tree = BSTNode(jadhesh.username, jadhesh)"
   ]
  },
  {
   "cell_type": "code",
   "execution_count": 112,
   "id": "homeless-welsh",
   "metadata": {
    "colab": {
     "base_uri": "https://localhost:8080/"
    },
    "executionInfo": {
     "elapsed": 11,
     "status": "ok",
     "timestamp": 1683305563788,
     "user": {
      "displayName": "Joseph Olayanju",
      "userId": "07239701715105728325"
     },
     "user_tz": -60
    },
    "id": "homeless-welsh",
    "outputId": "86d253b9-4337-49c5-d1ba-84521ce5c84f"
   },
   "outputs": [
    {
     "data": {
      "text/plain": [
       "('jadhesh',\n",
       " User(username='jadhesh', name='Jadhesh Verma', email='jadhesh@example.com'))"
      ]
     },
     "execution_count": 112,
     "metadata": {},
     "output_type": "execute_result"
    }
   ],
   "source": [
    "# View Level 0\n",
    "tree.key, tree.value"
   ]
  },
  {
   "cell_type": "code",
   "execution_count": 113,
   "id": "alternate-antenna",
   "metadata": {
    "executionInfo": {
     "elapsed": 513,
     "status": "ok",
     "timestamp": 1683305569727,
     "user": {
      "displayName": "Joseph Olayanju",
      "userId": "07239701715105728325"
     },
     "user_tz": -60
    },
    "id": "alternate-antenna"
   },
   "outputs": [],
   "source": [
    "# Level 1\n",
    "tree.left = BSTNode(biraj.username, biraj)\n",
    "tree.right = BSTNode(sonaksh.username, sonaksh)"
   ]
  },
  {
   "cell_type": "code",
   "execution_count": 114,
   "id": "assured-czech",
   "metadata": {
    "colab": {
     "base_uri": "https://localhost:8080/"
    },
    "executionInfo": {
     "elapsed": 490,
     "status": "ok",
     "timestamp": 1683305576505,
     "user": {
      "displayName": "Joseph Olayanju",
      "userId": "07239701715105728325"
     },
     "user_tz": -60
    },
    "id": "assured-czech",
    "outputId": "ec2984e5-9178-4174-b627-788beef7b99a"
   },
   "outputs": [
    {
     "data": {
      "text/plain": [
       "('biraj',\n",
       " User(username='biraj', name='Biraj Das', email='biraj@example.com'),\n",
       " 'sonaksh',\n",
       " User(username='sonaksh', name='Sonaksh Kumar', email='sonaksh@example.com'))"
      ]
     },
     "execution_count": 114,
     "metadata": {},
     "output_type": "execute_result"
    }
   ],
   "source": [
    "# View Level 1\n",
    "tree.left.key, tree.left.value, tree.right.key, tree.right.value"
   ]
  },
  {
   "cell_type": "markdown",
   "id": "sporting-youth",
   "metadata": {
    "id": "sporting-youth"
   },
   "source": [
    "**Exercise:** Add the next layer of nodes to the tree and verify that they were added properly."
   ]
  },
  {
   "cell_type": "code",
   "execution_count": 115,
   "id": "classical-trigger",
   "metadata": {
    "executionInfo": {
     "elapsed": 4,
     "status": "ok",
     "timestamp": 1683305931117,
     "user": {
      "displayName": "Joseph Olayanju",
      "userId": "07239701715105728325"
     },
     "user_tz": -60
    },
    "id": "classical-trigger"
   },
   "outputs": [],
   "source": [
    "# Level 2\n",
    "tree.left.left = BSTNode(aakash.username, aakash)\n",
    "tree.left.right = BSTNode(hemanth.username, hemanth)\n",
    "tree.right.left = BSTNode(siddhant.username, siddhant)\n",
    "tree.right.right = BSTNode(vishal.username, vishal)"
   ]
  },
  {
   "cell_type": "code",
   "execution_count": 117,
   "id": "common-cruise",
   "metadata": {
    "colab": {
     "base_uri": "https://localhost:8080/"
    },
    "executionInfo": {
     "elapsed": 14,
     "status": "ok",
     "timestamp": 1683305970223,
     "user": {
      "displayName": "Joseph Olayanju",
      "userId": "07239701715105728325"
     },
     "user_tz": -60
    },
    "id": "common-cruise",
    "outputId": "e50c60c5-48cf-4bbb-b9e4-dd96e639f9dc"
   },
   "outputs": [
    {
     "data": {
      "text/plain": [
       "('aakash',\n",
       " User(username='aakash', name='Aakash Rai', email='aakash@example.com'),\n",
       " 'hemanth',\n",
       " User(username='hemanth', name='Hemanth Jain', email='hemanth@example.com'),\n",
       " 'siddhant',\n",
       " User(username='siddhant', name='Joseph', email='me@gmail.com'),\n",
       " 'vishal',\n",
       " User(username='vishal', name='Vishal Goel', email='vishal@example.com'))"
      ]
     },
     "execution_count": 117,
     "metadata": {},
     "output_type": "execute_result"
    }
   ],
   "source": [
    "# View Level 2\n",
    "tree.left.left.key, tree.left.left.value, tree.left.right.key, tree.left.right.value, tree.right.left.key, tree.right.left.value, tree.right.right.key, tree.right.right.value"
   ]
  },
  {
   "cell_type": "markdown",
   "id": "drawn-coverage",
   "metadata": {
    "id": "drawn-coverage"
   },
   "source": [
    "We can use the same `display_keys` function we defined earlier to visualize our tree."
   ]
  },
  {
   "cell_type": "code",
   "execution_count": 118,
   "id": "living-therapist",
   "metadata": {
    "colab": {
     "base_uri": "https://localhost:8080/"
    },
    "executionInfo": {
     "elapsed": 1104,
     "status": "ok",
     "timestamp": 1683305979966,
     "user": {
      "displayName": "Joseph Olayanju",
      "userId": "07239701715105728325"
     },
     "user_tz": -60
    },
    "id": "living-therapist",
    "outputId": "54c0b41f-b9e4-402e-ce37-54af4e4ac667"
   },
   "outputs": [
    {
     "name": "stdout",
     "output_type": "stream",
     "text": [
      "jadhesh 0\n",
      "sonaksh 1\n",
      "vishal 2\n",
      "\t\tvishal\n",
      "\tsonaksh\n",
      "siddhant 2\n",
      "\t\tsiddhant\n",
      "jadhesh\n",
      "biraj 1\n",
      "hemanth 2\n",
      "\t\themanth\n",
      "\tbiraj\n",
      "aakash 2\n",
      "\t\taakash\n"
     ]
    }
   ],
   "source": [
    "display_keys(tree)"
   ]
  },
  {
   "cell_type": "markdown",
   "id": "latin-discharge",
   "metadata": {
    "heading_collapsed": true,
    "id": "latin-discharge"
   },
   "source": [
    "### Insertion into BST\n",
    "\n",
    "\n",
    "> **QUESTION 11**: Write a function to insert a new node into a BST.\n",
    "\n",
    "\n",
    "We use the BST-property to perform insertion efficiently: \n",
    "\n",
    "1. Starting from the root node, we compare the key to be inserted with the current node's key\n",
    "2. If the key is smaller, we recursively insert it in the left subtree (if it exists) or attach it as as the left child if no left subtree exists.\n",
    "3. If the key is larger, we recursively insert it in the right subtree (if it exists) or attach it as as the right child if no right subtree exists.\n",
    "\n",
    "Here's a recursive implementation of `insert`."
   ]
  },
  {
   "cell_type": "code",
   "execution_count": 119,
   "id": "technical-parks",
   "metadata": {
    "executionInfo": {
     "elapsed": 15,
     "status": "ok",
     "timestamp": 1683305999166,
     "user": {
      "displayName": "Joseph Olayanju",
      "userId": "07239701715105728325"
     },
     "user_tz": -60
    },
    "hidden": true,
    "id": "technical-parks"
   },
   "outputs": [],
   "source": [
    "def insert(node, key, value):\n",
    "    if node is None:\n",
    "        node = BSTNode(key, value)\n",
    "    elif key < node.key:\n",
    "        node.left = insert(node.left, key, value)\n",
    "        node.left.parent = node\n",
    "    elif key > node.key:\n",
    "        node.right = insert(node.right, key, value)\n",
    "        node.right.parent = node\n",
    "    return node"
   ]
  },
  {
   "cell_type": "markdown",
   "id": "registered-cocktail",
   "metadata": {
    "hidden": true,
    "id": "registered-cocktail"
   },
   "source": [
    "Let's use this to recreate our tree.\n",
    "\n",
    "<img src=\"https://i.imgur.com/JZeF9ix.png\" width=\"520\">\n",
    "\n",
    "To create the first node, we can use the `insert` function with `None` as the target tree."
   ]
  },
  {
   "cell_type": "code",
   "execution_count": 120,
   "id": "skilled-quantum",
   "metadata": {
    "executionInfo": {
     "elapsed": 1295,
     "status": "ok",
     "timestamp": 1683306005883,
     "user": {
      "displayName": "Joseph Olayanju",
      "userId": "07239701715105728325"
     },
     "user_tz": -60
    },
    "hidden": true,
    "id": "skilled-quantum"
   },
   "outputs": [],
   "source": [
    "tree = insert(None, jadhesh.username, jadhesh)"
   ]
  },
  {
   "cell_type": "markdown",
   "id": "authorized-beijing",
   "metadata": {
    "hidden": true,
    "id": "authorized-beijing"
   },
   "source": [
    "The remaining nodes can now be inserted into `tree`."
   ]
  },
  {
   "cell_type": "code",
   "execution_count": 121,
   "id": "egyptian-category",
   "metadata": {
    "colab": {
     "base_uri": "https://localhost:8080/"
    },
    "executionInfo": {
     "elapsed": 657,
     "status": "ok",
     "timestamp": 1683306013401,
     "user": {
      "displayName": "Joseph Olayanju",
      "userId": "07239701715105728325"
     },
     "user_tz": -60
    },
    "hidden": true,
    "id": "egyptian-category",
    "outputId": "7eb3d175-7cfd-486f-de5c-d152540300ff"
   },
   "outputs": [
    {
     "data": {
      "text/plain": [
       "<__main__.BSTNode at 0x7f279f2faf80>"
      ]
     },
     "execution_count": 121,
     "metadata": {},
     "output_type": "execute_result"
    }
   ],
   "source": [
    "insert(tree, biraj.username, biraj)\n",
    "insert(tree, sonaksh.username, sonaksh)\n",
    "insert(tree, aakash.username, aakash)\n",
    "insert(tree, hemanth.username, hemanth)\n",
    "insert(tree, siddhant.username, siddhant)\n",
    "insert(tree, vishal.username, siddhant)"
   ]
  },
  {
   "cell_type": "code",
   "execution_count": 122,
   "id": "romance-sullivan",
   "metadata": {
    "colab": {
     "base_uri": "https://localhost:8080/"
    },
    "executionInfo": {
     "elapsed": 1091,
     "status": "ok",
     "timestamp": 1683306016750,
     "user": {
      "displayName": "Joseph Olayanju",
      "userId": "07239701715105728325"
     },
     "user_tz": -60
    },
    "hidden": true,
    "id": "romance-sullivan",
    "outputId": "07700e8d-fe97-49de-b262-a3a28589951c"
   },
   "outputs": [
    {
     "name": "stdout",
     "output_type": "stream",
     "text": [
      "jadhesh 0\n",
      "sonaksh 1\n",
      "vishal 2\n",
      "\t\tvishal\n",
      "\tsonaksh\n",
      "siddhant 2\n",
      "\t\tsiddhant\n",
      "jadhesh\n",
      "biraj 1\n",
      "hemanth 2\n",
      "\t\themanth\n",
      "\tbiraj\n",
      "aakash 2\n",
      "\t\taakash\n"
     ]
    }
   ],
   "source": [
    "display_keys(tree)"
   ]
  },
  {
   "cell_type": "markdown",
   "id": "inappropriate-stream",
   "metadata": {
    "hidden": true,
    "id": "inappropriate-stream"
   },
   "source": [
    "Perfect! The tree was created as expected. \n",
    "\n",
    "Note, however, that the order of insertion of nodes change the structure of the resulting tree."
   ]
  },
  {
   "cell_type": "code",
   "execution_count": 123,
   "id": "martial-batch",
   "metadata": {
    "colab": {
     "base_uri": "https://localhost:8080/"
    },
    "executionInfo": {
     "elapsed": 2375,
     "status": "ok",
     "timestamp": 1683306029989,
     "user": {
      "displayName": "Joseph Olayanju",
      "userId": "07239701715105728325"
     },
     "user_tz": -60
    },
    "hidden": true,
    "id": "martial-batch",
    "outputId": "89e28150-1d6c-4dbc-b4aa-b8048e7b8efd"
   },
   "outputs": [
    {
     "data": {
      "text/plain": [
       "<__main__.BSTNode at 0x7f279f2fafb0>"
      ]
     },
     "execution_count": 123,
     "metadata": {},
     "output_type": "execute_result"
    }
   ],
   "source": [
    "tree2 = insert(None, aakash.username, aakash)\n",
    "insert(tree2, biraj.username, biraj)\n",
    "insert(tree2, hemanth.username, hemanth)\n",
    "insert(tree2, jadhesh.username, jadhesh)\n",
    "insert(tree2, siddhant.username, siddhant)\n",
    "insert(tree2, sonaksh.username, sonaksh)\n",
    "insert(tree2, vishal.username, vishal)"
   ]
  },
  {
   "cell_type": "code",
   "execution_count": 124,
   "id": "julian-scholarship",
   "metadata": {
    "colab": {
     "base_uri": "https://localhost:8080/"
    },
    "executionInfo": {
     "elapsed": 3,
     "status": "ok",
     "timestamp": 1683306032785,
     "user": {
      "displayName": "Joseph Olayanju",
      "userId": "07239701715105728325"
     },
     "user_tz": -60
    },
    "hidden": true,
    "id": "julian-scholarship",
    "outputId": "eba37f45-5388-432f-f3b4-62c972bcd9cb"
   },
   "outputs": [
    {
     "name": "stdout",
     "output_type": "stream",
     "text": [
      "aakash 0\n",
      "biraj 1\n",
      "hemanth 2\n",
      "jadhesh 3\n",
      "siddhant 4\n",
      "sonaksh 5\n",
      "vishal 6\n",
      "\t\t\t\t\t\tvishal\n",
      "\t\t\t\t\tsonaksh\n",
      "None 6\n",
      "\t\t\t\t\t\t∅\n",
      "\t\t\t\tsiddhant\n",
      "None 5\n",
      "\t\t\t\t\t∅\n",
      "\t\t\tjadhesh\n",
      "None 4\n",
      "\t\t\t\t∅\n",
      "\t\themanth\n",
      "None 3\n",
      "\t\t\t∅\n",
      "\tbiraj\n",
      "None 2\n",
      "\t\t∅\n",
      "aakash\n",
      "None 1\n",
      "\t∅\n"
     ]
    }
   ],
   "source": [
    "display_keys(tree2)"
   ]
  },
  {
   "cell_type": "markdown",
   "id": "enormous-block",
   "metadata": {
    "hidden": true,
    "id": "enormous-block"
   },
   "source": [
    "Can you see why the tree created above is skewed/unbalanced?\n",
    "\n",
    "<img src=\"https://i.imgur.com/lP5Thct.png\" width=\"520\">\n",
    "\n",
    "Skewed/unbalanced BSTs are problematic because the height of such trees often ceases to logarithmic compared to the number of nodes in the tree. For instance the above tree has 7 nodes and height 7.\n",
    "\n",
    "The length of the path traversed by `insert` is equal to the height of the tree (in the worst case). It follows that if the tree is balanced, the time complexity of insertion is `O(log N)` otherwise it is `O(N)`."
   ]
  },
  {
   "cell_type": "code",
   "execution_count": 125,
   "id": "changing-trunk",
   "metadata": {
    "colab": {
     "base_uri": "https://localhost:8080/"
    },
    "executionInfo": {
     "elapsed": 619,
     "status": "ok",
     "timestamp": 1683306046166,
     "user": {
      "displayName": "Joseph Olayanju",
      "userId": "07239701715105728325"
     },
     "user_tz": -60
    },
    "hidden": true,
    "id": "changing-trunk",
    "outputId": "bf500a1f-ab3a-44ff-d049-0b623666393b"
   },
   "outputs": [
    {
     "data": {
      "text/plain": [
       "7"
      ]
     },
     "execution_count": 125,
     "metadata": {},
     "output_type": "execute_result"
    }
   ],
   "source": [
    "tree_height(tree2)"
   ]
  },
  {
   "cell_type": "markdown",
   "id": "received-charles",
   "metadata": {
    "hidden": true,
    "id": "received-charles"
   },
   "source": [
    "**Exercise:** Create some more balanced and unbalanced BSTs using the `insert` function defined above."
   ]
  },
  {
   "cell_type": "code",
   "execution_count": 130,
   "id": "conventional-title",
   "metadata": {
    "colab": {
     "base_uri": "https://localhost:8080/"
    },
    "executionInfo": {
     "elapsed": 4,
     "status": "ok",
     "timestamp": 1683306518369,
     "user": {
      "displayName": "Joseph Olayanju",
      "userId": "07239701715105728325"
     },
     "user_tz": -60
    },
    "hidden": true,
    "id": "conventional-title",
    "outputId": "f548162e-b56e-4a4d-8e03-a4093f3f00f6"
   },
   "outputs": [
    {
     "data": {
      "text/plain": [
       "<__main__.BSTNode at 0x7f279f2fb490>"
      ]
     },
     "execution_count": 130,
     "metadata": {},
     "output_type": "execute_result"
    }
   ],
   "source": [
    "# balanced\n",
    "tree3 = None\n",
    "insert(tree3, siddhant.username, siddhant)\n",
    "insert(tree3, sonaksh.username, sonaksh)\n",
    "insert(tree3, biraj.username, biraj)\n",
    "insert(tree3, aakash.username, aakash)\n",
    "insert(tree3, jadhesh.username, jadhesh)\n",
    "insert(tree3, vishal.username, vishal)\n",
    "insert(tree3, hemanth.username, hemanth)"
   ]
  },
  {
   "cell_type": "code",
   "execution_count": 131,
   "id": "forward-function",
   "metadata": {
    "colab": {
     "base_uri": "https://localhost:8080/"
    },
    "executionInfo": {
     "elapsed": 4,
     "status": "ok",
     "timestamp": 1683306547469,
     "user": {
      "displayName": "Joseph Olayanju",
      "userId": "07239701715105728325"
     },
     "user_tz": -60
    },
    "hidden": true,
    "id": "forward-function",
    "outputId": "93e873ac-7f33-4325-d652-1e15b34c3990"
   },
   "outputs": [
    {
     "data": {
      "text/plain": [
       "<__main__.BSTNode at 0x7f279f2f9b40>"
      ]
     },
     "execution_count": 131,
     "metadata": {},
     "output_type": "execute_result"
    }
   ],
   "source": [
    "# Unbalanced\n",
    "tree4 = None\n",
    "insert(tree4, siddhant.username, siddhant)\n",
    "insert(tree4, sonaksh.username, sonaksh)\n",
    "insert(tree4, biraj.username, biraj)\n",
    "insert(tree4, aakash.username, aakash)\n",
    "insert(tree4, jadhesh.username, jadhesh)\n",
    "insert(tree4, vishal.username, vishal)\n",
    "insert(tree4, hemanth.username, hemanth)\n",
    "insert(tree4, vishal.username, vishal)\n",
    "insert(tree4, aakash.username, aakash)"
   ]
  },
  {
   "cell_type": "markdown",
   "id": "affecting-hormone",
   "metadata": {
    "id": "affecting-hormone"
   },
   "source": [
    "### Finding a Node in BST\n",
    "\n",
    "> **QUESTION 11**: Find the value associated with a given key in a BST.\n",
    "\n",
    "We can follow a recursive strategy similar to insertion to find the node with a given key within a BST."
   ]
  },
  {
   "cell_type": "code",
   "execution_count": 132,
   "id": "bizarre-concentrate",
   "metadata": {
    "executionInfo": {
     "elapsed": 484,
     "status": "ok",
     "timestamp": 1683306557379,
     "user": {
      "displayName": "Joseph Olayanju",
      "userId": "07239701715105728325"
     },
     "user_tz": -60
    },
    "id": "bizarre-concentrate"
   },
   "outputs": [],
   "source": [
    "def find(node, key):\n",
    "    if node is None:\n",
    "        return None\n",
    "    if key == node.key:\n",
    "        return node\n",
    "    if key < node.key:\n",
    "        return find(node.left, key)\n",
    "    if key > node.key:\n",
    "        return find(node.right, key)"
   ]
  },
  {
   "cell_type": "markdown",
   "id": "governmental-chocolate",
   "metadata": {
    "id": "governmental-chocolate"
   },
   "source": [
    "<img src=\"https://i.imgur.com/dzDszlw.png\" width=\"520\">"
   ]
  },
  {
   "cell_type": "code",
   "execution_count": 133,
   "id": "chemical-switzerland",
   "metadata": {
    "executionInfo": {
     "elapsed": 927,
     "status": "ok",
     "timestamp": 1683306564755,
     "user": {
      "displayName": "Joseph Olayanju",
      "userId": "07239701715105728325"
     },
     "user_tz": -60
    },
    "id": "chemical-switzerland"
   },
   "outputs": [],
   "source": [
    "node = find(tree, 'hemanth')"
   ]
  },
  {
   "cell_type": "code",
   "execution_count": 134,
   "id": "adjacent-advisory",
   "metadata": {
    "colab": {
     "base_uri": "https://localhost:8080/"
    },
    "executionInfo": {
     "elapsed": 5,
     "status": "ok",
     "timestamp": 1683306567595,
     "user": {
      "displayName": "Joseph Olayanju",
      "userId": "07239701715105728325"
     },
     "user_tz": -60
    },
    "id": "adjacent-advisory",
    "outputId": "2fe1b0ad-d277-4d0c-e50f-ecf58ce479cf"
   },
   "outputs": [
    {
     "data": {
      "text/plain": [
       "('hemanth',\n",
       " User(username='hemanth', name='Hemanth Jain', email='hemanth@example.com'))"
      ]
     },
     "execution_count": 134,
     "metadata": {},
     "output_type": "execute_result"
    }
   ],
   "source": [
    "node.key, node.value"
   ]
  },
  {
   "cell_type": "markdown",
   "id": "gentle-bosnia",
   "metadata": {
    "id": "gentle-bosnia"
   },
   "source": [
    "The the length of the path followed by `find` is equal to the height of the tree (in the worst case). Thus it has a similar time complexity as `insert`.\n",
    "\n",
    "**Example:** Try finding some more nodes from the BST created above (or create new trees)."
   ]
  },
  {
   "cell_type": "code",
   "execution_count": 135,
   "id": "generic-verification",
   "metadata": {
    "executionInfo": {
     "elapsed": 1170,
     "status": "ok",
     "timestamp": 1683306594412,
     "user": {
      "displayName": "Joseph Olayanju",
      "userId": "07239701715105728325"
     },
     "user_tz": -60
    },
    "id": "generic-verification"
   },
   "outputs": [],
   "source": [
    "node2 = find(tree2, 'siddhant')"
   ]
  },
  {
   "cell_type": "code",
   "execution_count": 136,
   "id": "usual-april",
   "metadata": {
    "colab": {
     "base_uri": "https://localhost:8080/"
    },
    "executionInfo": {
     "elapsed": 487,
     "status": "ok",
     "timestamp": 1683306606049,
     "user": {
      "displayName": "Joseph Olayanju",
      "userId": "07239701715105728325"
     },
     "user_tz": -60
    },
    "id": "usual-april",
    "outputId": "b744655a-86c5-4076-b3af-51a1119312c6"
   },
   "outputs": [
    {
     "data": {
      "text/plain": [
       "('siddhant', User(username='siddhant', name='Joseph', email='me@gmail.com'))"
      ]
     },
     "execution_count": 136,
     "metadata": {},
     "output_type": "execute_result"
    }
   ],
   "source": [
    "node2.key, node2.value"
   ]
  },
  {
   "cell_type": "markdown",
   "id": "fuzzy-general",
   "metadata": {
    "id": "fuzzy-general"
   },
   "source": [
    "### Updating a value in a BST\n",
    "\n",
    "> **QUESTION 12:** Write a function to update the value associated with a given key within a BST\n",
    "\n",
    "We can use `find` to locate the node to be updated, and simply update it's value."
   ]
  },
  {
   "cell_type": "code",
   "execution_count": 137,
   "id": "unlikely-geneva",
   "metadata": {
    "executionInfo": {
     "elapsed": 485,
     "status": "ok",
     "timestamp": 1683306614576,
     "user": {
      "displayName": "Joseph Olayanju",
      "userId": "07239701715105728325"
     },
     "user_tz": -60
    },
    "id": "unlikely-geneva"
   },
   "outputs": [],
   "source": [
    "def update(node, key, value):\n",
    "    target = find(node, key)\n",
    "    if target is not None:\n",
    "        target.value = value"
   ]
  },
  {
   "cell_type": "code",
   "execution_count": 138,
   "id": "requested-medicine",
   "metadata": {
    "executionInfo": {
     "elapsed": 3,
     "status": "ok",
     "timestamp": 1683306617983,
     "user": {
      "displayName": "Joseph Olayanju",
      "userId": "07239701715105728325"
     },
     "user_tz": -60
    },
    "id": "requested-medicine"
   },
   "outputs": [],
   "source": [
    "update(tree, 'hemanth', User('hemanth', 'Hemanth J', 'hemanthj@example.com'))"
   ]
  },
  {
   "cell_type": "code",
   "execution_count": 139,
   "id": "serious-lithuania",
   "metadata": {
    "colab": {
     "base_uri": "https://localhost:8080/"
    },
    "executionInfo": {
     "elapsed": 5,
     "status": "ok",
     "timestamp": 1683306620537,
     "user": {
      "displayName": "Joseph Olayanju",
      "userId": "07239701715105728325"
     },
     "user_tz": -60
    },
    "id": "serious-lithuania",
    "outputId": "f4bc2b98-326f-4aa5-e55f-f088062902fa"
   },
   "outputs": [
    {
     "data": {
      "text/plain": [
       "User(username='hemanth', name='Hemanth J', email='hemanthj@example.com')"
      ]
     },
     "execution_count": 139,
     "metadata": {},
     "output_type": "execute_result"
    }
   ],
   "source": [
    "node = find(tree, 'hemanth')\n",
    "node.value"
   ]
  },
  {
   "cell_type": "markdown",
   "id": "neutral-effects",
   "metadata": {
    "id": "neutral-effects"
   },
   "source": [
    "The value of the node was successfully updated. The time complexity of `update` is the same as that of `find`.\n",
    "\n",
    "**Exercise:** Try some more update operations using the BST created earlier."
   ]
  },
  {
   "cell_type": "code",
   "execution_count": 140,
   "id": "utility-semiconductor",
   "metadata": {
    "executionInfo": {
     "elapsed": 1853,
     "status": "ok",
     "timestamp": 1683306673529,
     "user": {
      "displayName": "Joseph Olayanju",
      "userId": "07239701715105728325"
     },
     "user_tz": -60
    },
    "id": "utility-semiconductor"
   },
   "outputs": [],
   "source": [
    "update(tree, 'sonaksh', User('sonaksh', 'Hemanth Joe', 'hemanthj@gogo.com'))"
   ]
  },
  {
   "cell_type": "code",
   "execution_count": 141,
   "id": "sweet-logging",
   "metadata": {
    "colab": {
     "base_uri": "https://localhost:8080/"
    },
    "executionInfo": {
     "elapsed": 499,
     "status": "ok",
     "timestamp": 1683306720054,
     "user": {
      "displayName": "Joseph Olayanju",
      "userId": "07239701715105728325"
     },
     "user_tz": -60
    },
    "id": "sweet-logging",
    "outputId": "601a016f-2181-469b-c8c3-a3dde0c31af3"
   },
   "outputs": [
    {
     "data": {
      "text/plain": [
       "User(username='sonaksh', name='Hemanth Joe', email='hemanthj@gogo.com')"
      ]
     },
     "execution_count": 141,
     "metadata": {},
     "output_type": "execute_result"
    }
   ],
   "source": [
    "node = find(tree, 'sonaksh')\n",
    "node.value"
   ]
  },
  {
   "cell_type": "markdown",
   "id": "dramatic-bleeding",
   "metadata": {
    "id": "dramatic-bleeding"
   },
   "source": [
    "### List the nodes\n",
    "\n",
    "> **QUESTION 13:** Write a function to retrieve all the key-values pairs stored in a BST in the sorted order of keys.\n",
    "\n",
    "The nodes can be listed in sorted order by performing an inorder traversal of the BST."
   ]
  },
  {
   "cell_type": "code",
   "execution_count": 142,
   "id": "independent-contrary",
   "metadata": {
    "executionInfo": {
     "elapsed": 965,
     "status": "ok",
     "timestamp": 1683306726346,
     "user": {
      "displayName": "Joseph Olayanju",
      "userId": "07239701715105728325"
     },
     "user_tz": -60
    },
    "id": "independent-contrary"
   },
   "outputs": [],
   "source": [
    "def list_all(node):\n",
    "    if node is None:\n",
    "        return []\n",
    "    return list_all(node.left) + [(node.key, node.value)] + list_all(node.right)"
   ]
  },
  {
   "cell_type": "code",
   "execution_count": 143,
   "id": "acquired-japan",
   "metadata": {
    "colab": {
     "base_uri": "https://localhost:8080/"
    },
    "executionInfo": {
     "elapsed": 4,
     "status": "ok",
     "timestamp": 1683306728970,
     "user": {
      "displayName": "Joseph Olayanju",
      "userId": "07239701715105728325"
     },
     "user_tz": -60
    },
    "id": "acquired-japan",
    "outputId": "7b557ee0-9637-4cd0-e096-ec0c0012fef4"
   },
   "outputs": [
    {
     "data": {
      "text/plain": [
       "[('aakash',\n",
       "  User(username='aakash', name='Aakash Rai', email='aakash@example.com')),\n",
       " ('biraj',\n",
       "  User(username='biraj', name='Biraj Das', email='biraj@example.com')),\n",
       " ('hemanth',\n",
       "  User(username='hemanth', name='Hemanth J', email='hemanthj@example.com')),\n",
       " ('jadhesh',\n",
       "  User(username='jadhesh', name='Jadhesh Verma', email='jadhesh@example.com')),\n",
       " ('siddhant', User(username='siddhant', name='Joseph', email='me@gmail.com')),\n",
       " ('sonaksh',\n",
       "  User(username='sonaksh', name='Hemanth Joe', email='hemanthj@gogo.com')),\n",
       " ('vishal', User(username='siddhant', name='Joseph', email='me@gmail.com'))]"
      ]
     },
     "execution_count": 143,
     "metadata": {},
     "output_type": "execute_result"
    }
   ],
   "source": [
    "list_all(tree)"
   ]
  },
  {
   "cell_type": "markdown",
   "id": "traditional-disclaimer",
   "metadata": {
    "id": "traditional-disclaimer"
   },
   "source": [
    "**Exercise:** Determine the time complexity and space complexity of `list_all`."
   ]
  },
  {
   "cell_type": "code",
   "execution_count": 144,
   "id": "reliable-algorithm",
   "metadata": {
    "executionInfo": {
     "elapsed": 527,
     "status": "ok",
     "timestamp": 1683306741457,
     "user": {
      "displayName": "Joseph Olayanju",
      "userId": "07239701715105728325"
     },
     "user_tz": -60
    },
    "id": "reliable-algorithm"
   },
   "outputs": [],
   "source": [
    "import jovian"
   ]
  },
  {
   "cell_type": "code",
   "execution_count": 145,
   "id": "offensive-escape",
   "metadata": {
    "colab": {
     "base_uri": "https://localhost:8080/"
    },
    "executionInfo": {
     "elapsed": 539,
     "status": "ok",
     "timestamp": 1683306743773,
     "user": {
      "displayName": "Joseph Olayanju",
      "userId": "07239701715105728325"
     },
     "user_tz": -60
    },
    "id": "offensive-escape",
    "outputId": "f09c3145-9a10-4a97-968c-a078d70e50d9"
   },
   "outputs": [
    {
     "name": "stdout",
     "output_type": "stream",
     "text": [
      "[jovian] Detected Colab notebook...\u001b[0m\n",
      "[jovian] jovian.commit() is no longer required on Google Colab. If you ran this notebook from Jovian, \n",
      "then just save this file in Colab using Ctrl+S/Cmd+S and it will be updated on Jovian. \n",
      "Also, you can also delete this cell, it's no longer necessary.\u001b[0m\n"
     ]
    }
   ],
   "source": [
    "jovian.commit()"
   ]
  },
  {
   "cell_type": "markdown",
   "id": "constitutional-charleston",
   "metadata": {
    "id": "constitutional-charleston"
   },
   "source": [
    "## Balanced Binary Trees\n",
    "\n",
    "> **QUESTION 14**: Write a function to determine if a binary tree is balanced.\n",
    "\n",
    "Here's a recursive strategy:\n",
    "\n",
    "1. Ensure that the left subtree is balanced.\n",
    "2. Ensure that the right subtree is balanced.\n",
    "3. Ensure that the difference between heights of left subtree and right subtree is not more than 1.\n",
    "\n"
   ]
  },
  {
   "cell_type": "code",
   "execution_count": 146,
   "id": "downtown-isaac",
   "metadata": {
    "executionInfo": {
     "elapsed": 661,
     "status": "ok",
     "timestamp": 1683306750170,
     "user": {
      "displayName": "Joseph Olayanju",
      "userId": "07239701715105728325"
     },
     "user_tz": -60
    },
    "id": "downtown-isaac"
   },
   "outputs": [],
   "source": [
    "def is_balanced(node):\n",
    "    if node is None:\n",
    "        return True, 0\n",
    "    balanced_l, height_l = is_balanced(node.left)\n",
    "    balanced_r, height_r = is_balanced(node.right)\n",
    "    balanced = balanced_l and balanced_r and abs(height_l - height_r) <=1\n",
    "    height = 1 + max(height_l, height_r)\n",
    "    return balanced, height"
   ]
  },
  {
   "cell_type": "markdown",
   "id": "polar-calculator",
   "metadata": {
    "id": "polar-calculator"
   },
   "source": [
    "The following tree is balanced:\n",
    "\n",
    "<img src=\"https://i.imgur.com/JZeF9ix.png\" width=\"520\">"
   ]
  },
  {
   "cell_type": "code",
   "execution_count": 147,
   "id": "bigger-movie",
   "metadata": {
    "colab": {
     "base_uri": "https://localhost:8080/"
    },
    "executionInfo": {
     "elapsed": 871,
     "status": "ok",
     "timestamp": 1683306757943,
     "user": {
      "displayName": "Joseph Olayanju",
      "userId": "07239701715105728325"
     },
     "user_tz": -60
    },
    "id": "bigger-movie",
    "outputId": "1264a692-4505-44ad-a3e8-5807b0b22594"
   },
   "outputs": [
    {
     "data": {
      "text/plain": [
       "(True, 3)"
      ]
     },
     "execution_count": 147,
     "metadata": {},
     "output_type": "execute_result"
    }
   ],
   "source": [
    "is_balanced(tree)"
   ]
  },
  {
   "cell_type": "markdown",
   "id": "institutional-board",
   "metadata": {
    "id": "institutional-board"
   },
   "source": [
    "The following tree is not balanced:\n",
    "\n",
    "<img src=\"https://i.imgur.com/lP5Thct.png\" width=\"520\">"
   ]
  },
  {
   "cell_type": "code",
   "execution_count": 148,
   "id": "coordinated-selection",
   "metadata": {
    "colab": {
     "base_uri": "https://localhost:8080/"
    },
    "executionInfo": {
     "elapsed": 5,
     "status": "ok",
     "timestamp": 1683306763024,
     "user": {
      "displayName": "Joseph Olayanju",
      "userId": "07239701715105728325"
     },
     "user_tz": -60
    },
    "id": "coordinated-selection",
    "outputId": "a877ebde-f688-4aa0-9ddc-8fc1bf05d512"
   },
   "outputs": [
    {
     "data": {
      "text/plain": [
       "(False, 7)"
      ]
     },
     "execution_count": 148,
     "metadata": {},
     "output_type": "execute_result"
    }
   ],
   "source": [
    "is_balanced(tree2)"
   ]
  },
  {
   "cell_type": "markdown",
   "id": "express-steal",
   "metadata": {
    "id": "express-steal"
   },
   "source": [
    "**Exercise:** Is the tree shown below balanced? Why or why not? Create this tree and check if it's balanced using the `is_balanced` function.\n",
    "\n",
    "<img src=\"https://i.imgur.com/LlOT712.png\" width=\"520\">\n",
    "\n"
   ]
  },
  {
   "cell_type": "code",
   "execution_count": null,
   "id": "indie-mississippi",
   "metadata": {
    "id": "indie-mississippi"
   },
   "outputs": [],
   "source": []
  },
  {
   "cell_type": "code",
   "execution_count": null,
   "id": "prescription-light",
   "metadata": {
    "id": "prescription-light"
   },
   "outputs": [],
   "source": []
  },
  {
   "cell_type": "markdown",
   "id": "flexible-budapest",
   "metadata": {
    "id": "flexible-budapest"
   },
   "source": [
    "Also try this related problem on *complete* binary trees: https://leetcode.com/problems/check-completeness-of-a-binary-tree/\n",
    "\n"
   ]
  },
  {
   "cell_type": "markdown",
   "id": "juvenile-coating",
   "metadata": {
    "id": "juvenile-coating"
   },
   "source": [
    "## Balanced Binary Search Trees\n",
    "\n",
    "> **QUESTION 15**: Write a function to create a balanced BST from a sorted list/array of key-value pairs.\n",
    "\n",
    "We can use a recursive strategy here, turning the middle element of the list into the root, and recursively creating left and right subtrees.\n"
   ]
  },
  {
   "cell_type": "code",
   "execution_count": null,
   "id": "equivalent-nerve",
   "metadata": {
    "id": "equivalent-nerve"
   },
   "outputs": [],
   "source": [
    "def make_balanced_bst(data, lo=0, hi=None, parent=None):\n",
    "    if hi is None:\n",
    "        hi = len(data) - 1\n",
    "    if lo > hi:\n",
    "        return None\n",
    "    \n",
    "    mid = (lo + hi) // 2\n",
    "    key, value = data[mid]\n",
    "\n",
    "    root = BSTNode(key, value)\n",
    "    root.parent = parent\n",
    "    root.left = make_balanced_bst(data, lo, mid-1, root)\n",
    "    root.right = make_balanced_bst(data, mid+1, hi, root)\n",
    "    \n",
    "    return root\n",
    "    "
   ]
  },
  {
   "cell_type": "code",
   "execution_count": null,
   "id": "casual-payroll",
   "metadata": {
    "id": "casual-payroll"
   },
   "outputs": [],
   "source": [
    "data = [(user.username, user) for user in users]\n",
    "data"
   ]
  },
  {
   "cell_type": "code",
   "execution_count": null,
   "id": "opened-establishment",
   "metadata": {
    "id": "opened-establishment"
   },
   "outputs": [],
   "source": [
    "tree = make_balanced_bst(data)"
   ]
  },
  {
   "cell_type": "code",
   "execution_count": null,
   "id": "statistical-alert",
   "metadata": {
    "id": "statistical-alert"
   },
   "outputs": [],
   "source": [
    "display_keys(tree)"
   ]
  },
  {
   "cell_type": "markdown",
   "id": "pleasant-hepatitis",
   "metadata": {
    "id": "pleasant-hepatitis"
   },
   "source": [
    "<img src=\"https://i.imgur.com/JZeF9ix.png\" width=\"520\">\n",
    "\n",
    "Recall that the same list of users, when inserted one-by-one resulted in a skewed tree."
   ]
  },
  {
   "cell_type": "code",
   "execution_count": null,
   "id": "pregnant-binding",
   "metadata": {
    "id": "pregnant-binding"
   },
   "outputs": [],
   "source": [
    "tree3 = None\n",
    "for username, user in data:\n",
    "    tree3 = insert(tree3, username, user)"
   ]
  },
  {
   "cell_type": "code",
   "execution_count": null,
   "id": "measured-graduate",
   "metadata": {
    "id": "measured-graduate"
   },
   "outputs": [],
   "source": []
  },
  {
   "cell_type": "code",
   "execution_count": null,
   "id": "unable-communications",
   "metadata": {
    "id": "unable-communications"
   },
   "outputs": [],
   "source": []
  },
  {
   "cell_type": "code",
   "execution_count": null,
   "id": "affected-bikini",
   "metadata": {
    "id": "affected-bikini"
   },
   "outputs": [],
   "source": []
  },
  {
   "cell_type": "markdown",
   "id": "computational-leader",
   "metadata": {
    "id": "computational-leader"
   },
   "source": [
    "## Balancing an Unbalanced BST\n",
    "\n",
    "> **QUESTION 16:** Write a function to balance an unbalanced binary search tree.\n",
    "\n",
    "We first perform an inorder traversal, then create a balanced BST using the function defined earlier."
   ]
  },
  {
   "cell_type": "code",
   "execution_count": null,
   "id": "enclosed-criterion",
   "metadata": {
    "id": "enclosed-criterion"
   },
   "outputs": [],
   "source": [
    "def balance_bst(node):\n",
    "    return make_balanced_bst(list_all(node))"
   ]
  },
  {
   "cell_type": "code",
   "execution_count": null,
   "id": "informational-flooring",
   "metadata": {
    "id": "informational-flooring"
   },
   "outputs": [],
   "source": [
    "tree1 = None\n",
    "\n",
    "for user in users:\n",
    "    tree1 = insert(tree1, user.username, user)"
   ]
  },
  {
   "cell_type": "code",
   "execution_count": null,
   "id": "continued-study",
   "metadata": {
    "id": "continued-study"
   },
   "outputs": [],
   "source": [
    "display_keys(tree1)"
   ]
  },
  {
   "cell_type": "code",
   "execution_count": null,
   "id": "naval-arrangement",
   "metadata": {
    "id": "naval-arrangement"
   },
   "outputs": [],
   "source": [
    "tree2 = balance_bst(tree1)"
   ]
  },
  {
   "cell_type": "code",
   "execution_count": null,
   "id": "compatible-family",
   "metadata": {
    "id": "compatible-family"
   },
   "outputs": [],
   "source": [
    "display_keys(tree2)"
   ]
  },
  {
   "cell_type": "markdown",
   "id": "elegant-passenger",
   "metadata": {
    "id": "elegant-passenger"
   },
   "source": [
    "After every insertion, we can balance the tree. This way the tree will remain balanced.\n",
    "\n",
    "Complexity of the various operations in a balanced BST:\n",
    "\n",
    "* Insert - O(log N) + O(N) = O(N)\n",
    "* Find - O(log N)\n",
    "* Update - O(log N)\n",
    "* List all - O(N)\n",
    "\n",
    "What's the real improvement between O(N) and O(log N)? "
   ]
  },
  {
   "cell_type": "code",
   "execution_count": null,
   "id": "linear-vertical",
   "metadata": {
    "id": "linear-vertical"
   },
   "outputs": [],
   "source": [
    "import math\n",
    "\n",
    "math.log(100000000, 2)"
   ]
  },
  {
   "cell_type": "markdown",
   "id": "fatal-belarus",
   "metadata": {
    "id": "fatal-belarus"
   },
   "source": [
    "The logarithm (base 2) of 100 million is around 26. Thus, it takes only 26 operations to find or update a node within a BST (as opposed to 100 million)."
   ]
  },
  {
   "cell_type": "code",
   "execution_count": null,
   "id": "nonprofit-joshua",
   "metadata": {
    "id": "nonprofit-joshua"
   },
   "outputs": [],
   "source": [
    "%%time\n",
    "for i in range(26):\n",
    "    j = i*i"
   ]
  },
  {
   "cell_type": "markdown",
   "id": "welsh-retirement",
   "metadata": {
    "id": "welsh-retirement"
   },
   "source": [
    "Compared to linear time:"
   ]
  },
  {
   "cell_type": "code",
   "execution_count": null,
   "id": "affected-tackle",
   "metadata": {
    "id": "affected-tackle"
   },
   "outputs": [],
   "source": [
    "%%time\n",
    "for i in range(100000000):\n",
    "    j = i*i"
   ]
  },
  {
   "cell_type": "markdown",
   "id": "complex-employment",
   "metadata": {
    "id": "complex-employment"
   },
   "source": [
    "Thus, find and update from a balanced binary search tree is 300,000 times faster than our original solution. To speed up insertions, we may choose to perform the balancing periodically (e.g. once every 1000 insertions). This way, most insertions will be O (log N), but every 1000th insertion will take a few seconds. Another options is to rebalance the tree periodically at the end of every hour."
   ]
  },
  {
   "cell_type": "markdown",
   "id": "lesbian-detector",
   "metadata": {
    "id": "lesbian-detector"
   },
   "source": [
    "## A Python-Friendly Treemap \n",
    "\n",
    "We are now ready to return to our original problem statement.\n",
    "\n",
    "> **QUESTION 1**: As a senior backend engineer at Jovian, you are tasked with developing a fast in-memory data structure to manage profile information (username, name and email) for 100 million users. It should allow the following operations to be performed efficiently:\n",
    "> \n",
    "> 1. **Insert** the profile information for a new user.\n",
    "> 2. **Find** the profile information of a user, given their username\n",
    "> 3. **Update** the profile information of a user, given their usrname\n",
    "> 5. **List** all the users of the platform, sorted by username\n",
    ">\n",
    "> You can assume that usernames are unique. \n",
    "\n",
    "\n",
    "\n",
    "We can create a generic class `TreeMap` which supports all the operations specified in the original problem statement in a python-friendly manner."
   ]
  },
  {
   "cell_type": "code",
   "execution_count": null,
   "id": "global-aberdeen",
   "metadata": {
    "id": "global-aberdeen"
   },
   "outputs": [],
   "source": [
    "class TreeMap():\n",
    "    def __init__(self):\n",
    "        self.root = None\n",
    "        \n",
    "    def __setitem__(self, key, value):\n",
    "        node = find(self.root, key)\n",
    "        if not node:\n",
    "            self.root = insert(self.root, key, value)\n",
    "            self.root = balance_bst(self.root)\n",
    "        else:\n",
    "            update(self.root, key, value)\n",
    "            \n",
    "        \n",
    "    def __getitem__(self, key):\n",
    "        node = find(self.root, key)\n",
    "        return node.value if node else None\n",
    "    \n",
    "    def __iter__(self):\n",
    "        return (x for x in list_all(self.root))\n",
    "    \n",
    "    def __len__(self):\n",
    "        return tree_size(self.root)\n",
    "    \n",
    "    def display(self):\n",
    "        return display_keys(self.root)"
   ]
  },
  {
   "cell_type": "markdown",
   "id": "loaded-deposit",
   "metadata": {
    "id": "loaded-deposit"
   },
   "source": [
    "**Exercise**: What is the time complexity of `__len__`? Can you reduce it to **O(1)**. Hint: Modify the `BSTNode` class.\n",
    "\n",
    "Let's try using the `TreeMap` class below."
   ]
  },
  {
   "cell_type": "code",
   "execution_count": null,
   "id": "creative-assessment",
   "metadata": {
    "id": "creative-assessment"
   },
   "outputs": [],
   "source": [
    "users"
   ]
  },
  {
   "cell_type": "code",
   "execution_count": null,
   "id": "dedicated-airfare",
   "metadata": {
    "id": "dedicated-airfare"
   },
   "outputs": [],
   "source": [
    "treemap = TreeMap()"
   ]
  },
  {
   "cell_type": "code",
   "execution_count": null,
   "id": "organic-vampire",
   "metadata": {
    "id": "organic-vampire"
   },
   "outputs": [],
   "source": [
    "treemap.display()"
   ]
  },
  {
   "cell_type": "code",
   "execution_count": null,
   "id": "proper-brain",
   "metadata": {
    "id": "proper-brain"
   },
   "outputs": [],
   "source": [
    "treemap['aakash'] = aakash\n",
    "treemap['jadhesh'] = jadhesh\n",
    "treemap['sonaksh'] = sonaksh"
   ]
  },
  {
   "cell_type": "code",
   "execution_count": null,
   "id": "mathematical-sender",
   "metadata": {
    "id": "mathematical-sender"
   },
   "outputs": [],
   "source": [
    "treemap.display()"
   ]
  },
  {
   "cell_type": "code",
   "execution_count": null,
   "id": "crude-lobby",
   "metadata": {
    "id": "crude-lobby"
   },
   "outputs": [],
   "source": [
    "treemap['jadhesh']"
   ]
  },
  {
   "cell_type": "code",
   "execution_count": null,
   "id": "running-disposition",
   "metadata": {
    "id": "running-disposition"
   },
   "outputs": [],
   "source": [
    "len(treemap)"
   ]
  },
  {
   "cell_type": "code",
   "execution_count": null,
   "id": "victorian-contractor",
   "metadata": {
    "id": "victorian-contractor"
   },
   "outputs": [],
   "source": [
    "treemap['biraj'] = biraj\n",
    "treemap['hemanth'] = hemanth\n",
    "treemap['siddhant'] = siddhant\n",
    "treemap['vishal'] = vishal"
   ]
  },
  {
   "cell_type": "code",
   "execution_count": null,
   "id": "offensive-notice",
   "metadata": {
    "id": "offensive-notice"
   },
   "outputs": [],
   "source": [
    "treemap.display()"
   ]
  },
  {
   "cell_type": "code",
   "execution_count": null,
   "id": "south-hazard",
   "metadata": {
    "id": "south-hazard"
   },
   "outputs": [],
   "source": [
    "for key, value in treemap:\n",
    "    print(key, value)"
   ]
  },
  {
   "cell_type": "code",
   "execution_count": null,
   "id": "dominant-sector",
   "metadata": {
    "id": "dominant-sector"
   },
   "outputs": [],
   "source": [
    "list(treemap)"
   ]
  },
  {
   "cell_type": "code",
   "execution_count": null,
   "id": "large-freedom",
   "metadata": {
    "id": "large-freedom"
   },
   "outputs": [],
   "source": [
    "treemap['aakash'] = User(username='aakash', name='Aakash N S', email='aakashns@example.com')"
   ]
  },
  {
   "cell_type": "code",
   "execution_count": null,
   "id": "tropical-advice",
   "metadata": {
    "id": "tropical-advice"
   },
   "outputs": [],
   "source": [
    "treemap['aakash']"
   ]
  },
  {
   "cell_type": "markdown",
   "id": "attached-pacific",
   "metadata": {
    "id": "attached-pacific"
   },
   "source": [
    "\n",
    "**Exercise:** Try out some more examples below. Can our treemap actually handle millions of users profiles?"
   ]
  },
  {
   "cell_type": "code",
   "execution_count": null,
   "id": "wanted-cooking",
   "metadata": {
    "id": "wanted-cooking"
   },
   "outputs": [],
   "source": []
  },
  {
   "cell_type": "code",
   "execution_count": null,
   "id": "photographic-desktop",
   "metadata": {
    "id": "photographic-desktop"
   },
   "outputs": [],
   "source": []
  },
  {
   "cell_type": "code",
   "execution_count": null,
   "id": "elder-carolina",
   "metadata": {
    "id": "elder-carolina"
   },
   "outputs": [],
   "source": []
  },
  {
   "cell_type": "markdown",
   "id": "conceptual-microphone",
   "metadata": {
    "id": "conceptual-microphone"
   },
   "source": [
    "Let's save our work before cotinuing."
   ]
  },
  {
   "cell_type": "code",
   "execution_count": null,
   "id": "affected-rings",
   "metadata": {
    "id": "affected-rings"
   },
   "outputs": [],
   "source": [
    "import jovian"
   ]
  },
  {
   "cell_type": "code",
   "execution_count": null,
   "id": "national-stupid",
   "metadata": {
    "id": "national-stupid"
   },
   "outputs": [],
   "source": [
    "jovian.commit()"
   ]
  },
  {
   "cell_type": "markdown",
   "id": "meaning-phrase",
   "metadata": {
    "id": "meaning-phrase"
   },
   "source": [
    "## Self-Balancing Binary Trees and AVL Trees\n",
    "\n",
    "A *self-balancing binary tree* remains balanced after every insertion or deletion. Several decades of research has gone into creating self-balancing binary trees, and many approaches have been devised e.g. B-trees, Red Black Trees and  AVL (Adelson-Velsky Landis) trees.\n",
    "\n",
    "We'll take a brief look at AVL trees. Self-balancing in AVL trees is achieved by tracking the *balance factor* (difference between the height of the left subtree and the right subtree) for each node and *rotating* unbalanced subtrees along the path of insertion/deletion to balance them.\n",
    "\n",
    "![](https://upload.wikimedia.org/wikipedia/commons/f/fd/AVL_Tree_Example.gif)\n",
    "\n",
    "In a balanced BST, the balance factor of each node is either 0, -1, or 1. When we perform an insertion, then the balance factor of certain nodes along the path of insertion may change to 2 or -2. Those nodes can be \"rotated\" one-by-one to bring the balance factor back to 1, 0 or -1. \n",
    "\n",
    "There are 4 different scenarios for balancing, two of which require a single rotation, while the others require 2 rotations:\n",
    "\n",
    "\n",
    "![](https://s3.amazonaws.com/hr-challenge-images/0/1436854305-b167cc766c-AVL_Tree_Rebalancing.svg.png)\n",
    "\n",
    "Source: [HackerRank](https://www.hackerrank.com/challenges/self-balancing-tree/problem)\n",
    "\n",
    "Since each rotation takes constant time, and at most `log N` rotations may be required, this operation is far more efficient than creating a balanced binary tree from scratch, allowing insertion and deletion to be performed in `O (log N)` time. Here are some references for AVL Trees:\n",
    "\n",
    "* Explanation of the various cases: https://youtu.be/jDM6_TnYIqE?t=482\n",
    "* Implementation: https://www.geeksforgeeks.org/avl-tree-set-1-insertion/\n"
   ]
  },
  {
   "cell_type": "markdown",
   "id": "persistent-rating",
   "metadata": {
    "id": "persistent-rating"
   },
   "source": [
    "## Summary and Exercises\n",
    "\n",
    "![](https://i.imgur.com/lVqP63n.png)\n",
    "\n",
    "Binary trees form the basis of many modern programming language features (e.g. maps in C++ and Java) and data storage systems (filesystem indexes, relational databases like MySQL). You might wonder if dictionaries in Python are also binary search trees. They're not. They're hash tables, which is a different but equally interesting and important data structure. We'll explore hash tables in a future tutorial.\n",
    "\n",
    "\n",
    "\n",
    "\n",
    "\n",
    "\n",
    "We've covered a lot of ground this in this tutorial, including several common interview questions. Here are a few more problems you can try out:\n",
    "\n",
    "1. Implement rotations and self-balancing insertion\n",
    "1. Implement deletion of a node from a binary search tree\n",
    "2. Implement deletion of a node from a BST (with balancing)\n",
    "3. Find the lowest common ancestor of two nodes in a tree (Hint: Use the `parent` property)\n",
    "4. Find the next node in lexicographic order for a given node\n",
    "5. Given a number k, find the k-th node in a BST.\n",
    "\n",
    "Try more questions here: \n",
    "\n",
    "* https://medium.com/techie-delight/binary-tree-interview-questions-and-practice-problems-439df7e5ea1f\n",
    "* https://leetcode.com/tag/tree/\n",
    "\n",
    "\n",
    "\n",
    "\n"
   ]
  },
  {
   "cell_type": "code",
   "execution_count": null,
   "id": "judicial-specialist",
   "metadata": {
    "id": "judicial-specialist"
   },
   "outputs": [],
   "source": [
    "import jovian"
   ]
  },
  {
   "cell_type": "code",
   "execution_count": null,
   "id": "surprising-guest",
   "metadata": {
    "id": "surprising-guest"
   },
   "outputs": [],
   "source": [
    "jovian.commit()"
   ]
  },
  {
   "cell_type": "code",
   "execution_count": null,
   "id": "furnished-harvard",
   "metadata": {
    "id": "furnished-harvard"
   },
   "outputs": [],
   "source": []
  }
 ],
 "metadata": {
  "colab": {
   "provenance": []
  },
  "kernelspec": {
   "display_name": "Python 3 (ipykernel)",
   "language": "python",
   "name": "python3"
  },
  "language_info": {
   "codemirror_mode": {
    "name": "ipython",
    "version": 3
   },
   "file_extension": ".py",
   "mimetype": "text/x-python",
   "name": "python",
   "nbconvert_exporter": "python",
   "pygments_lexer": "ipython3",
   "version": "3.9.7"
  }
 },
 "nbformat": 4,
 "nbformat_minor": 5
}